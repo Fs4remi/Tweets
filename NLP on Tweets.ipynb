{
 "cells": [
  {
   "cell_type": "code",
   "execution_count": 1,
   "metadata": {},
   "outputs": [],
   "source": [
    "import pandas as pd\n",
    "import datetime\n",
    "import numpy as np\n",
    "import seaborn as sns\n",
    "import matplotlib.pyplot as plt\n",
    "import matplotlib.ticker as ptk\n",
    "\n",
    "from sklearn.model_selection import train_test_split\n",
    "from sklearn.feature_extraction.text import CountVectorizer, TfidfVectorizer\n",
    "from sklearn.naive_bayes import MultinomialNB   \n",
    "from sklearn.tree import DecisionTreeClassifier\n",
    "from sklearn import metrics\n",
    "from sklearn.metrics import confusion_matrix\n",
    "\n",
    "from textblob import TextBlob\n",
    "\n",
    "sns.set(style=\"whitegrid\")\n",
    "%matplotlib inline\n",
    "\n",
    "plt.rcParams['figure.figsize'] = (16, 6)\n",
    "plt.rcParams['font.size'] = 18\n",
    "plt.style.use(\"fivethirtyeight\")\n",
    "sns.set(style=\"whitegrid\")"
   ]
  },
  {
   "cell_type": "code",
   "execution_count": 2,
   "metadata": {},
   "outputs": [],
   "source": [
    "df = pd.read_csv('./original_tweets_corpes.csv')\n",
    "df['tweet_dates']= pd.to_datetime(df['tweet_dates'], errors = 'coerce')"
   ]
  },
  {
   "cell_type": "code",
   "execution_count": 3,
   "metadata": {},
   "outputs": [
    {
     "data": {
      "text/html": [
       "<div>\n",
       "<style scoped>\n",
       "    .dataframe tbody tr th:only-of-type {\n",
       "        vertical-align: middle;\n",
       "    }\n",
       "\n",
       "    .dataframe tbody tr th {\n",
       "        vertical-align: top;\n",
       "    }\n",
       "\n",
       "    .dataframe thead th {\n",
       "        text-align: right;\n",
       "    }\n",
       "</style>\n",
       "<table border=\"1\" class=\"dataframe\">\n",
       "  <thead>\n",
       "    <tr style=\"text-align: right;\">\n",
       "      <th></th>\n",
       "      <th>source</th>\n",
       "      <th>text</th>\n",
       "      <th>retweet_count</th>\n",
       "      <th>favorite_count</th>\n",
       "      <th>is_retweet</th>\n",
       "      <th>tweet_dates</th>\n",
       "    </tr>\n",
       "  </thead>\n",
       "  <tbody>\n",
       "    <tr>\n",
       "      <th>519</th>\n",
       "      <td>Twitter for iPhone</td>\n",
       "      <td>Wow! Morning Joe &amp;amp; Psycho ratings have rea...</td>\n",
       "      <td>18877.0</td>\n",
       "      <td>93051.0</td>\n",
       "      <td>False</td>\n",
       "      <td>2019-07-30 12:11:02</td>\n",
       "    </tr>\n",
       "    <tr>\n",
       "      <th>3523</th>\n",
       "      <td>Twitter for iPhone</td>\n",
       "      <td>Best Jobs Numbers in the history of our great ...</td>\n",
       "      <td>24007.0</td>\n",
       "      <td>99191.0</td>\n",
       "      <td>False</td>\n",
       "      <td>2018-10-21 19:26:12</td>\n",
       "    </tr>\n",
       "    <tr>\n",
       "      <th>18991</th>\n",
       "      <td>Twitter for Android</td>\n",
       "      <td>\"@phillynutt68: My only Question to @realDonal...</td>\n",
       "      <td>8.0</td>\n",
       "      <td>32.0</td>\n",
       "      <td>False</td>\n",
       "      <td>2015-01-20 02:09:18</td>\n",
       "    </tr>\n",
       "    <tr>\n",
       "      <th>5209</th>\n",
       "      <td>Twitter for iPhone</td>\n",
       "      <td>Today I had the great honor of awarding the Co...</td>\n",
       "      <td>13271.0</td>\n",
       "      <td>63850.0</td>\n",
       "      <td>False</td>\n",
       "      <td>2018-05-01 16:57:13</td>\n",
       "    </tr>\n",
       "    <tr>\n",
       "      <th>36123</th>\n",
       "      <td>Twitter Web Client</td>\n",
       "      <td>The @BarackObama campaign took in $39M in May ...</td>\n",
       "      <td>589.0</td>\n",
       "      <td>54.0</td>\n",
       "      <td>False</td>\n",
       "      <td>2012-06-21 19:37:46</td>\n",
       "    </tr>\n",
       "    <tr>\n",
       "      <th>5385</th>\n",
       "      <td>Twitter for iPhone</td>\n",
       "      <td>....to pay. Open area immediately for medical ...</td>\n",
       "      <td>15616.0</td>\n",
       "      <td>67780.0</td>\n",
       "      <td>False</td>\n",
       "      <td>2018-04-08 13:04:22</td>\n",
       "    </tr>\n",
       "  </tbody>\n",
       "</table>\n",
       "</div>"
      ],
      "text/plain": [
       "                    source                                               text  \\\n",
       "519     Twitter for iPhone  Wow! Morning Joe &amp; Psycho ratings have rea...   \n",
       "3523    Twitter for iPhone  Best Jobs Numbers in the history of our great ...   \n",
       "18991  Twitter for Android  \"@phillynutt68: My only Question to @realDonal...   \n",
       "5209    Twitter for iPhone  Today I had the great honor of awarding the Co...   \n",
       "36123   Twitter Web Client  The @BarackObama campaign took in $39M in May ...   \n",
       "5385    Twitter for iPhone  ....to pay. Open area immediately for medical ...   \n",
       "\n",
       "       retweet_count  favorite_count  is_retweet         tweet_dates  \n",
       "519          18877.0         93051.0       False 2019-07-30 12:11:02  \n",
       "3523         24007.0         99191.0       False 2018-10-21 19:26:12  \n",
       "18991            8.0            32.0       False 2015-01-20 02:09:18  \n",
       "5209         13271.0         63850.0       False 2018-05-01 16:57:13  \n",
       "36123          589.0            54.0       False 2012-06-21 19:37:46  \n",
       "5385         15616.0         67780.0       False 2018-04-08 13:04:22  "
      ]
     },
     "execution_count": 3,
     "metadata": {},
     "output_type": "execute_result"
    }
   ],
   "source": [
    "df.sample(n=6)"
   ]
  },
  {
   "cell_type": "code",
   "execution_count": 4,
   "metadata": {},
   "outputs": [
    {
     "data": {
      "text/plain": [
       "count     38189.000000\n",
       "mean      21616.210008\n",
       "std       41552.669856\n",
       "min           0.000000\n",
       "25%          27.000000\n",
       "50%         180.000000\n",
       "75%       19848.000000\n",
       "max      879647.000000\n",
       "Name: favorite_count, dtype: float64"
      ]
     },
     "execution_count": 4,
     "metadata": {},
     "output_type": "execute_result"
    }
   ],
   "source": [
    "df[\"favorite_count\"].describe()"
   ]
  },
  {
   "cell_type": "code",
   "execution_count": 5,
   "metadata": {},
   "outputs": [],
   "source": [
    "annual_median = df.groupby(by=df[\"tweet_dates\"].dt.year)[\"favorite_count\"].median()\n",
    "df[\"fave_count_adj\"] = df[\"favorite_count\"] / annual_median[df[\"tweet_dates\"].dt.year.values].values"
   ]
  },
  {
   "cell_type": "code",
   "execution_count": 6,
   "metadata": {},
   "outputs": [
    {
     "data": {
      "text/plain": [
       "count    38189.000000\n",
       "mean         4.157976\n",
       "std         45.873473\n",
       "min          0.000000\n",
       "25%          0.489796\n",
       "50%          1.000000\n",
       "75%          2.222222\n",
       "max       3813.115385\n",
       "Name: fave_count_adj, dtype: float64"
      ]
     },
     "execution_count": 6,
     "metadata": {},
     "output_type": "execute_result"
    }
   ],
   "source": [
    "df[\"fave_count_adj\"].describe()"
   ]
  },
  {
   "cell_type": "code",
   "execution_count": 7,
   "metadata": {
    "scrolled": true
   },
   "outputs": [
    {
     "data": {
      "text/plain": [
       "Text(0.5, 1.0, 'testing the possible bin sizes')"
      ]
     },
     "execution_count": 7,
     "metadata": {},
     "output_type": "execute_result"
    },
    {
     "data": {
      "image/png": "[encoded data removed]",
      "text/plain": [
       "<Figure size 432x288 with 1 Axes>"
      ]
     },
     "metadata": {
      "needs_background": "light"
     },
     "output_type": "display_data"
    }
   ],
   "source": [
    "df['fave_count_adj'].clip(upper=5.0).hist()\n",
    "plt.title('testing the possible bin sizes', fontsize = 20)"
   ]
  },
  {
   "cell_type": "code",
   "execution_count": 8,
   "metadata": {},
   "outputs": [],
   "source": [
    "cuts = [-1, 1, 5, np.inf]\n",
    "engage_category = ['low', 'med', 'high']\n",
    "df['engagement'] = pd.cut(df['fave_count_adj'].values, bins = cuts, labels = engage_category)"
   ]
  },
  {
   "cell_type": "code",
   "execution_count": 9,
   "metadata": {},
   "outputs": [
    {
     "data": {
      "text/plain": [
       "low     19219\n",
       "med     13268\n",
       "high     5702\n",
       "Name: engagement, dtype: int64"
      ]
     },
     "execution_count": 9,
     "metadata": {},
     "output_type": "execute_result"
    }
   ],
   "source": [
    "df['engagement'].value_counts()"
   ]
  },
  {
   "cell_type": "code",
   "execution_count": 10,
   "metadata": {},
   "outputs": [],
   "source": [
    "low_class = 19115"
   ]
  },
  {
   "cell_type": "markdown",
   "metadata": {},
   "source": [
    "## Naive Bayes Classification Model"
   ]
  },
  {
   "cell_type": "code",
   "execution_count": 11,
   "metadata": {},
   "outputs": [],
   "source": [
    "X = df['text']\n",
    "y = df['engagement']"
   ]
  },
  {
   "cell_type": "code",
   "execution_count": 14,
   "metadata": {},
   "outputs": [
    {
     "data": {
      "text/plain": [
       "(28641, 29629)"
      ]
     },
     "execution_count": 14,
     "metadata": {},
     "output_type": "execute_result"
    }
   ],
   "source": [
    "X_train, X_test, y_train, y_test = train_test_split(X, y, random_state= 4)\n",
    "vect = CountVectorizer(lowercase = True)\n",
    "X_train_dtm = vect.fit_transform(X_train)\n",
    "X_test_dtm = vect.transform(X_test)\n",
    "nb = MultinomialNB()\n",
    "nb.fit(X_train_dtm, y_train)\n",
    "y_pred_class = nb.predict(X_test_dtm)\n",
    "NB_CV_accuracy = metrics.accuracy_score(y_test, y_pred_class)\n",
    "X_train_dtm.shape"
   ]
  },
  {
   "cell_type": "code",
   "execution_count": 15,
   "metadata": {},
   "outputs": [
    {
     "name": "stdout",
     "output_type": "stream",
     "text": [
      "Baseline accuracy is 50.3291205897841%\n",
      "Using NB model accuracy is 61.19606200251362%\n"
     ]
    }
   ],
   "source": [
    "print(\"Baseline accuracy is {}%\".format((low_class / 37980) * 100))\n",
    "print(\"Using NB model accuracy is {}%\".format(NB_CV_accuracy * 100))"
   ]
  },
  {
   "cell_type": "code",
   "execution_count": 16,
   "metadata": {},
   "outputs": [
    {
     "data": {
      "image/png": "[encoded data removed]",
      "text/plain": [
       "<Figure size 432x288 with 1 Axes>"
      ]
     },
     "metadata": {
      "needs_background": "light"
     },
     "output_type": "display_data"
    }
   ],
   "source": [
    "confusion_mat = confusion_matrix(y_test, y_pred_class)\n",
    "\n",
    "#mat = confusion_matrix(test.target, labels)\n",
    "sns.heatmap(confusion_mat.T, square=True, annot=True, fmt='d', cbar=False,\n",
    "            xticklabels=['low', 'med', 'high'], yticklabels=['low', 'med', 'high'])\n",
    "plt.xlabel('true label')\n",
    "plt.ylabel('predicted label');"
   ]
  },
  {
   "cell_type": "code",
   "execution_count": 17,
   "metadata": {},
   "outputs": [
    {
     "data": {
      "text/plain": [
       "(28641, 29629)"
      ]
     },
     "execution_count": 17,
     "metadata": {},
     "output_type": "execute_result"
    }
   ],
   "source": [
    "#Using TfidVectorizer() which normalizes the matrix values\n",
    "X_train, X_test, y_train, y_test = train_test_split(X, y, random_state= 4)\n",
    "vect_TFID = TfidfVectorizer(lowercase = True)\n",
    "X_train_dtm = vect_TFID.fit_transform(X_train)\n",
    "X_test_dtm = vect_TFID.transform(X_test)\n",
    "nb = MultinomialNB()\n",
    "nb.fit(X_train_dtm, y_train)\n",
    "y_pred_class = nb.predict(X_test_dtm)\n",
    "NB_TFI_accuracy = metrics.accuracy_score(y_test, y_pred_class)\n",
    "X_train_dtm.shape"
   ]
  },
  {
   "cell_type": "code",
   "execution_count": 66,
   "metadata": {},
   "outputs": [
    {
     "name": "stdout",
     "output_type": "stream",
     "text": [
      "Baseline accuracy is 50.3291205897841%\n",
      "Using NB model accuracy is 61.19606200251362%\n",
      "Using NB model using the TfidVectorizer accuracy is 59.530791788856305%\n"
     ]
    }
   ],
   "source": [
    "print(\"Baseline accuracy is {}%\".format((low_class / 37980) * 100))\n",
    "print(\"Using NB model accuracy is {}%\".format(NB_CV_accuracy * 100))\n",
    "print(\"Using NB model using the TfidVectorizer accuracy is {}%\".format(NB_TFI_accuracy * 100))"
   ]
  },
  {
   "cell_type": "code",
   "execution_count": 18,
   "metadata": {},
   "outputs": [
    {
     "data": {
      "image/png": "[encoded data removed]",
      "text/plain": [
       "<Figure size 432x288 with 1 Axes>"
      ]
     },
     "metadata": {
      "needs_background": "light"
     },
     "output_type": "display_data"
    }
   ],
   "source": [
    "confusion_mat = confusion_matrix(y_test, y_pred_class)\n",
    "\n",
    "#mat = confusion_matrix(test.target, labels)\n",
    "sns.heatmap(confusion_mat.T, square=True, annot=True, fmt='d', cbar=False,\n",
    "            xticklabels=['low', 'med', 'high'], yticklabels=['low', 'med', 'high'])\n",
    "plt.xlabel('true label')\n",
    "plt.ylabel('predicted label');"
   ]
  },
  {
   "cell_type": "markdown",
   "metadata": {},
   "source": [
    "## Modifying the parameters of countvectorizer\n",
    "I printed the number of features each X_train_dtm collects everytime I change a parameter of CountVectorizer() to show a corrolation between higher number of features and accuracy \n",
    "## stop_words\n"
   ]
  },
  {
   "cell_type": "code",
   "execution_count": 67,
   "metadata": {},
   "outputs": [
    {
     "name": "stdout",
     "output_type": "stream",
     "text": [
      "Accuracy:  61.70925848345203\n"
     ]
    },
    {
     "data": {
      "text/plain": [
       "(28641, 29337)"
      ]
     },
     "execution_count": 67,
     "metadata": {},
     "output_type": "execute_result"
    }
   ],
   "source": [
    "#string {‘english’}\n",
    "X_train, X_test, y_train, y_test = train_test_split(X, y, random_state= 4)\n",
    "vect = CountVectorizer(lowercase = True, stop_words = 'english')\n",
    "X_train_dtm = vect.fit_transform(X_train)\n",
    "X_test_dtm = vect.transform(X_test)\n",
    "nb = MultinomialNB()\n",
    "nb.fit(X_train_dtm, y_train)\n",
    "y_pred_class = nb.predict(X_test_dtm)\n",
    "print(\"Accuracy: \",metrics.accuracy_score(y_test, y_pred_class)*100)\n",
    "X_train_dtm.shape"
   ]
  },
  {
   "cell_type": "markdown",
   "metadata": {},
   "source": [
    "## min_df + stop_words"
   ]
  },
  {
   "cell_type": "code",
   "execution_count": 12,
   "metadata": {},
   "outputs": [
    {
     "name": "stdout",
     "output_type": "stream",
     "text": [
      "Accuracy:  62.107247591118565\n"
     ]
    },
    {
     "data": {
      "text/plain": [
       "(28641, 12694)"
      ]
     },
     "execution_count": 12,
     "metadata": {},
     "output_type": "execute_result"
    }
   ],
   "source": [
    "X_train, X_test, y_train, y_test = train_test_split(X, y, random_state= 4)\n",
    "vect = CountVectorizer(lowercase = True, stop_words = 'english', min_df = 2)\n",
    "X_train_dtm = vect.fit_transform(X_train)\n",
    "X_test_dtm = vect.transform(X_test)\n",
    "nb = MultinomialNB()\n",
    "nb.fit(X_train_dtm, y_train)\n",
    "y_pred_class = nb.predict(X_test_dtm)\n",
    "print(\"Accuracy: \",metrics.accuracy_score(y_test, y_pred_class)*100)\n",
    "X_train_dtm.shape"
   ]
  },
  {
   "cell_type": "code",
   "execution_count": 13,
   "metadata": {},
   "outputs": [
    {
     "data": {
      "image/png": "[encoded data removed]",
      "text/plain": [
       "<Figure size 432x288 with 1 Axes>"
      ]
     },
     "metadata": {
      "needs_background": "light"
     },
     "output_type": "display_data"
    }
   ],
   "source": [
    "confusion_mat = confusion_matrix(y_test, y_pred_class)\n",
    "\n",
    "#mat = confusion_matrix(test.target, labels)\n",
    "sns.heatmap(confusion_mat.T, square=True, annot=True, fmt='d', cbar=False,\n",
    "            xticklabels=['low', 'med', 'high'], yticklabels=['low', 'med', 'high'])\n",
    "plt.xlabel('true label')\n",
    "plt.ylabel('predicted label');"
   ]
  },
  {
   "cell_type": "markdown",
   "metadata": {},
   "source": [
    "## min_df alone doesn't improve performance"
   ]
  },
  {
   "cell_type": "code",
   "execution_count": 19,
   "metadata": {},
   "outputs": [
    {
     "name": "stdout",
     "output_type": "stream",
     "text": [
      "Accuracy:  61.61499790532049\n"
     ]
    },
    {
     "data": {
      "text/plain": [
       "(28641, 12977)"
      ]
     },
     "execution_count": 19,
     "metadata": {},
     "output_type": "execute_result"
    }
   ],
   "source": [
    "X_train, X_test, y_train, y_test = train_test_split(X, y, random_state= 4)\n",
    "vect = CountVectorizer(lowercase = True, min_df = 2)\n",
    "X_train_dtm = vect.fit_transform(X_train)\n",
    "X_test_dtm = vect.transform(X_test)\n",
    "nb = MultinomialNB()\n",
    "nb.fit(X_train_dtm, y_train)\n",
    "y_pred_class = nb.predict(X_test_dtm)\n",
    "print(\"Accuracy: \",metrics.accuracy_score(y_test, y_pred_class)*100)\n",
    "X_train_dtm.shape"
   ]
  },
  {
   "cell_type": "code",
   "execution_count": 20,
   "metadata": {},
   "outputs": [
    {
     "data": {
      "image/png": "[encoded data removed]",
      "text/plain": [
       "<Figure size 432x288 with 1 Axes>"
      ]
     },
     "metadata": {
      "needs_background": "light"
     },
     "output_type": "display_data"
    }
   ],
   "source": [
    "confusion_mat = confusion_matrix(y_test, y_pred_class)\n",
    "\n",
    "#mat = confusion_matrix(test.target, labels)\n",
    "sns.heatmap(confusion_mat.T, square=True, annot=True, fmt='d', cbar=False,\n",
    "            xticklabels=['low', 'med', 'high'], yticklabels=['low', 'med', 'high'])\n",
    "plt.xlabel('true label')\n",
    "plt.ylabel('predicted label');"
   ]
  },
  {
   "cell_type": "code",
   "execution_count": 21,
   "metadata": {},
   "outputs": [
    {
     "name": "stdout",
     "output_type": "stream",
     "text": [
      "Accuracy:  61.05990783410138\n"
     ]
    },
    {
     "data": {
      "text/plain": [
       "(28641, 7444)"
      ]
     },
     "execution_count": 21,
     "metadata": {},
     "output_type": "execute_result"
    }
   ],
   "source": [
    "X_train, X_test, y_train, y_test = train_test_split(X, y, random_state= 4)\n",
    "vect = CountVectorizer(lowercase = True, min_df = 4)\n",
    "X_train_dtm = vect.fit_transform(X_train)\n",
    "X_test_dtm = vect.transform(X_test)\n",
    "nb = MultinomialNB()\n",
    "nb.fit(X_train_dtm, y_train)\n",
    "y_pred_class = nb.predict(X_test_dtm)\n",
    "print(\"Accuracy: \",metrics.accuracy_score(y_test, y_pred_class)*100)\n",
    "X_train_dtm.shape"
   ]
  },
  {
   "cell_type": "code",
   "execution_count": 22,
   "metadata": {},
   "outputs": [
    {
     "data": {
      "image/png": "[encoded data removed]",
      "text/plain": [
       "<Figure size 432x288 with 1 Axes>"
      ]
     },
     "metadata": {
      "needs_background": "light"
     },
     "output_type": "display_data"
    }
   ],
   "source": [
    "confusion_mat = confusion_matrix(y_test, y_pred_class)\n",
    "\n",
    "#mat = confusion_matrix(test.target, labels)\n",
    "sns.heatmap(confusion_mat.T, square=True, annot=True, fmt='d', cbar=False,\n",
    "            xticklabels=['low', 'med', 'high'], yticklabels=['low', 'med', 'high'])\n",
    "plt.xlabel('true label')\n",
    "plt.ylabel('predicted label');"
   ]
  },
  {
   "cell_type": "markdown",
   "metadata": {},
   "source": [
    "## ngram_range"
   ]
  },
  {
   "cell_type": "code",
   "execution_count": 23,
   "metadata": {},
   "outputs": [
    {
     "name": "stdout",
     "output_type": "stream",
     "text": [
      "Accuracy:  61.405529953917046\n"
     ]
    },
    {
     "data": {
      "text/plain": [
       "(28641, 234978)"
      ]
     },
     "execution_count": 23,
     "metadata": {},
     "output_type": "execute_result"
    }
   ],
   "source": [
    "X_train, X_test, y_train, y_test = train_test_split(X, y, random_state= 4)\n",
    "vect = CountVectorizer(lowercase = True, ngram_range=(1,2))\n",
    "X_train_dtm = vect.fit_transform(X_train)\n",
    "X_test_dtm = vect.transform(X_test)\n",
    "nb = MultinomialNB()\n",
    "nb.fit(X_train_dtm, y_train)\n",
    "y_pred_class = nb.predict(X_test_dtm)\n",
    "print(\"Accuracy: \",metrics.accuracy_score(y_test, y_pred_class)*100)\n",
    "X_train_dtm.shape"
   ]
  },
  {
   "cell_type": "code",
   "execution_count": 24,
   "metadata": {},
   "outputs": [
    {
     "data": {
      "image/png": "[encoded data removed]",
      "text/plain": [
       "<Figure size 432x288 with 1 Axes>"
      ]
     },
     "metadata": {
      "needs_background": "light"
     },
     "output_type": "display_data"
    }
   ],
   "source": [
    "confusion_mat = confusion_matrix(y_test, y_pred_class)\n",
    "\n",
    "#mat = confusion_matrix(test.target, labels)\n",
    "sns.heatmap(confusion_mat.T, square=True, annot=True, fmt='d', cbar=False,\n",
    "            xticklabels=['low', 'med', 'high'], yticklabels=['low', 'med', 'high'])\n",
    "plt.xlabel('true label')\n",
    "plt.ylabel('predicted label');"
   ]
  },
  {
   "cell_type": "code",
   "execution_count": 25,
   "metadata": {},
   "outputs": [
    {
     "name": "stdout",
     "output_type": "stream",
     "text": [
      "Accuracy:  61.20653540008378\n"
     ]
    },
    {
     "data": {
      "text/plain": [
       "(28641, 594783)"
      ]
     },
     "execution_count": 25,
     "metadata": {},
     "output_type": "execute_result"
    }
   ],
   "source": [
    "X_train, X_test, y_train, y_test = train_test_split(X, y, random_state= 4)\n",
    "vect = CountVectorizer(lowercase = True, ngram_range=(1,3))\n",
    "X_train_dtm = vect.fit_transform(X_train)\n",
    "X_test_dtm = vect.transform(X_test)\n",
    "nb = MultinomialNB()\n",
    "nb.fit(X_train_dtm, y_train)\n",
    "y_pred_class = nb.predict(X_test_dtm)\n",
    "print(\"Accuracy: \",metrics.accuracy_score(y_test, y_pred_class)*100)\n",
    "X_train_dtm.shape"
   ]
  },
  {
   "cell_type": "code",
   "execution_count": 26,
   "metadata": {},
   "outputs": [
    {
     "data": {
      "image/png": "[encoded data removed]",
      "text/plain": [
       "<Figure size 432x288 with 1 Axes>"
      ]
     },
     "metadata": {
      "needs_background": "light"
     },
     "output_type": "display_data"
    }
   ],
   "source": [
    "confusion_mat = confusion_matrix(y_test, y_pred_class)\n",
    "\n",
    "#mat = confusion_matrix(test.target, labels)\n",
    "sns.heatmap(confusion_mat.T, square=True, annot=True, fmt='d', cbar=False,\n",
    "            xticklabels=['low', 'med', 'high'], yticklabels=['low', 'med', 'high'])\n",
    "plt.xlabel('true label')\n",
    "plt.ylabel('predicted label');"
   ]
  },
  {
   "cell_type": "markdown",
   "metadata": {},
   "source": [
    "# Sentiment Analysis"
   ]
  },
  {
   "cell_type": "code",
   "execution_count": 11,
   "metadata": {},
   "outputs": [],
   "source": [
    "#Creating function to apply a library method to series\n",
    "#-1 is most negative sentiment rank, 1 is the most positive\n",
    "def detect_sentiment(tweet):\n",
    "    return TextBlob(tweet).sentiment.polarity"
   ]
  },
  {
   "cell_type": "code",
   "execution_count": 12,
   "metadata": {},
   "outputs": [],
   "source": [
    "df['sentiment_rank'] = df['text'].apply(detect_sentiment)"
   ]
  },
  {
   "cell_type": "code",
   "execution_count": 13,
   "metadata": {},
   "outputs": [
    {
     "data": {
      "text/html": [
       "<div>\n",
       "<style scoped>\n",
       "    .dataframe tbody tr th:only-of-type {\n",
       "        vertical-align: middle;\n",
       "    }\n",
       "\n",
       "    .dataframe tbody tr th {\n",
       "        vertical-align: top;\n",
       "    }\n",
       "\n",
       "    .dataframe thead th {\n",
       "        text-align: right;\n",
       "    }\n",
       "</style>\n",
       "<table border=\"1\" class=\"dataframe\">\n",
       "  <thead>\n",
       "    <tr style=\"text-align: right;\">\n",
       "      <th></th>\n",
       "      <th>source</th>\n",
       "      <th>text</th>\n",
       "      <th>retweet_count</th>\n",
       "      <th>favorite_count</th>\n",
       "      <th>is_retweet</th>\n",
       "      <th>tweet_dates</th>\n",
       "      <th>fave_count_adj</th>\n",
       "      <th>engagement</th>\n",
       "      <th>sentiment_rank</th>\n",
       "    </tr>\n",
       "  </thead>\n",
       "  <tbody>\n",
       "    <tr>\n",
       "      <th>23211</th>\n",
       "      <td>Twitter for Android</td>\n",
       "      <td>\"@LaytonJPalmer: @realDonaldTrump for presiden...</td>\n",
       "      <td>65.0</td>\n",
       "      <td>89.0</td>\n",
       "      <td>False</td>\n",
       "      <td>2014-06-17 10:43:13</td>\n",
       "      <td>1.816327</td>\n",
       "      <td>med</td>\n",
       "      <td>0.000000</td>\n",
       "    </tr>\n",
       "    <tr>\n",
       "      <th>27078</th>\n",
       "      <td>Twitter for Android</td>\n",
       "      <td>American Exceptionalism and the Navy Yard shoo...</td>\n",
       "      <td>72.0</td>\n",
       "      <td>40.0</td>\n",
       "      <td>False</td>\n",
       "      <td>2013-09-17 11:26:10</td>\n",
       "      <td>2.222222</td>\n",
       "      <td>med</td>\n",
       "      <td>0.013889</td>\n",
       "    </tr>\n",
       "    <tr>\n",
       "      <th>33530</th>\n",
       "      <td>Twitter Web Client</td>\n",
       "      <td>@shineb4 @jayleno @billmaher Thanks</td>\n",
       "      <td>1.0</td>\n",
       "      <td>0.0</td>\n",
       "      <td>False</td>\n",
       "      <td>2013-01-08 21:32:13</td>\n",
       "      <td>0.000000</td>\n",
       "      <td>low</td>\n",
       "      <td>0.200000</td>\n",
       "    </tr>\n",
       "    <tr>\n",
       "      <th>33340</th>\n",
       "      <td>Twitter Web Client</td>\n",
       "      <td>... Is a third party coming? I hope not.</td>\n",
       "      <td>75.0</td>\n",
       "      <td>64.0</td>\n",
       "      <td>False</td>\n",
       "      <td>2013-01-15 20:05:36</td>\n",
       "      <td>3.555556</td>\n",
       "      <td>med</td>\n",
       "      <td>0.000000</td>\n",
       "    </tr>\n",
       "  </tbody>\n",
       "</table>\n",
       "</div>"
      ],
      "text/plain": [
       "                    source                                               text  \\\n",
       "23211  Twitter for Android  \"@LaytonJPalmer: @realDonaldTrump for presiden...   \n",
       "27078  Twitter for Android  American Exceptionalism and the Navy Yard shoo...   \n",
       "33530   Twitter Web Client                @shineb4 @jayleno @billmaher Thanks   \n",
       "33340   Twitter Web Client           ... Is a third party coming? I hope not.   \n",
       "\n",
       "       retweet_count  favorite_count  is_retweet         tweet_dates  \\\n",
       "23211           65.0            89.0       False 2014-06-17 10:43:13   \n",
       "27078           72.0            40.0       False 2013-09-17 11:26:10   \n",
       "33530            1.0             0.0       False 2013-01-08 21:32:13   \n",
       "33340           75.0            64.0       False 2013-01-15 20:05:36   \n",
       "\n",
       "       fave_count_adj engagement  sentiment_rank  \n",
       "23211        1.816327        med        0.000000  \n",
       "27078        2.222222        med        0.013889  \n",
       "33530        0.000000        low        0.200000  \n",
       "33340        3.555556        med        0.000000  "
      ]
     },
     "execution_count": 13,
     "metadata": {},
     "output_type": "execute_result"
    }
   ],
   "source": [
    "df.sample(n=4)"
   ]
  },
  {
   "cell_type": "code",
   "execution_count": 14,
   "metadata": {},
   "outputs": [
    {
     "data": {
      "text/plain": [
       "count    38189.000000\n",
       "mean         0.184221\n",
       "std          0.357710\n",
       "min         -1.000000\n",
       "25%          0.000000\n",
       "50%          0.100000\n",
       "75%          0.400000\n",
       "max          1.000000\n",
       "Name: sentiment_rank, dtype: float64"
      ]
     },
     "execution_count": 14,
     "metadata": {},
     "output_type": "execute_result"
    }
   ],
   "source": [
    "df['sentiment_rank'].describe()"
   ]
  },
  {
   "cell_type": "code",
   "execution_count": 15,
   "metadata": {},
   "outputs": [
    {
     "name": "stderr",
     "output_type": "stream",
     "text": [
      "C:\\Users\\fs4re\\Anaconda3\\lib\\site-packages\\scipy\\stats\\stats.py:1713: FutureWarning: Using a non-tuple sequence for multidimensional indexing is deprecated; use `arr[tuple(seq)]` instead of `arr[seq]`. In the future this will be interpreted as an array index, `arr[np.array(seq)]`, which will result either in an error or a different result.\n",
      "  return np.add.reduce(sorted[indexer] * weights, axis=axis) / sumval\n"
     ]
    },
    {
     "data": {
      "text/plain": [
       "Text(0.5, 1.0, 'Distribution of the sentiment rank')"
      ]
     },
     "execution_count": 15,
     "metadata": {},
     "output_type": "execute_result"
    },
    {
     "data": {
      "image/png": "[encoded data removed]",
      "text/plain": [
       "<Figure size 432x288 with 1 Axes>"
      ]
     },
     "metadata": {
      "needs_background": "light"
     },
     "output_type": "display_data"
    }
   ],
   "source": [
    "sns.distplot(df['sentiment_rank'], hist = True, kde = False);\n",
    "plt.xlabel('Sentiment rank',fontsize = 20);\n",
    "plt.ylabel('Frequency of tweets',fontsize = 20);\n",
    "plt.title('Distribution of the sentiment rank', fontsize = 20)"
   ]
  },
  {
   "cell_type": "code",
   "execution_count": 16,
   "metadata": {},
   "outputs": [],
   "source": [
    "#Since the values of sentiment_rank are close to one another and somehow distributed evenly\n",
    "# I made the cuts based on values -1 to 0, 0 to 0.5, 0.5 to 1\n",
    "cuts = [-1, 0, 0.5, 1]\n",
    "senti_category = ['negative', 'neutral', 'positive']\n",
    "df['sentiment'] = pd.cut(df['sentiment_rank'].values, bins = cuts, labels = senti_category)"
   ]
  },
  {
   "cell_type": "code",
   "execution_count": 17,
   "metadata": {},
   "outputs": [
    {
     "data": {
      "text/plain": [
       "Text(0.5, 0, 'Sentiment categories')"
      ]
     },
     "execution_count": 17,
     "metadata": {},
     "output_type": "execute_result"
    },
    {
     "data": {
      "image/png": "[encoded data removed]",
      "text/plain": [
       "<Figure size 432x288 with 1 Axes>"
      ]
     },
     "metadata": {
      "needs_background": "light"
     },
     "output_type": "display_data"
    }
   ],
   "source": [
    "sns.barplot(x = df['sentiment'].value_counts().index, y = df['sentiment'].value_counts().values)\n",
    "plt.xlabel('Sentiment categories', fontsize = 20)"
   ]
  },
  {
   "cell_type": "code",
   "execution_count": 18,
   "metadata": {},
   "outputs": [],
   "source": [
    "def detect_sentiment_subj(tweet):\n",
    "    return TextBlob(tweet).sentiment.subjectivity\n",
    "df['subjectivity_rank'] = df['text'].apply(detect_sentiment)"
   ]
  },
  {
   "cell_type": "code",
   "execution_count": 19,
   "metadata": {},
   "outputs": [
    {
     "data": {
      "text/html": [
       "<div>\n",
       "<style scoped>\n",
       "    .dataframe tbody tr th:only-of-type {\n",
       "        vertical-align: middle;\n",
       "    }\n",
       "\n",
       "    .dataframe tbody tr th {\n",
       "        vertical-align: top;\n",
       "    }\n",
       "\n",
       "    .dataframe thead th {\n",
       "        text-align: right;\n",
       "    }\n",
       "</style>\n",
       "<table border=\"1\" class=\"dataframe\">\n",
       "  <thead>\n",
       "    <tr style=\"text-align: right;\">\n",
       "      <th></th>\n",
       "      <th>source</th>\n",
       "      <th>text</th>\n",
       "      <th>retweet_count</th>\n",
       "      <th>favorite_count</th>\n",
       "      <th>is_retweet</th>\n",
       "      <th>tweet_dates</th>\n",
       "      <th>fave_count_adj</th>\n",
       "      <th>engagement</th>\n",
       "      <th>sentiment_rank</th>\n",
       "      <th>sentiment</th>\n",
       "      <th>subjectivity_rank</th>\n",
       "    </tr>\n",
       "  </thead>\n",
       "  <tbody>\n",
       "    <tr>\n",
       "      <th>5236</th>\n",
       "      <td>Twitter for iPhone</td>\n",
       "      <td>I urge all Americans to participate in #takeba...</td>\n",
       "      <td>11885.0</td>\n",
       "      <td>49952.0</td>\n",
       "      <td>False</td>\n",
       "      <td>2018-04-27 19:23:23</td>\n",
       "      <td>0.599736</td>\n",
       "      <td>low</td>\n",
       "      <td>0.250000</td>\n",
       "      <td>neutral</td>\n",
       "      <td>0.250000</td>\n",
       "    </tr>\n",
       "    <tr>\n",
       "      <th>6458</th>\n",
       "      <td>Twitter for iPhone</td>\n",
       "      <td>The Democrats in the Southwest part of Virgini...</td>\n",
       "      <td>16003.0</td>\n",
       "      <td>71175.0</td>\n",
       "      <td>False</td>\n",
       "      <td>2017-10-14 21:27:22</td>\n",
       "      <td>0.937889</td>\n",
       "      <td>low</td>\n",
       "      <td>-0.194444</td>\n",
       "      <td>negative</td>\n",
       "      <td>-0.194444</td>\n",
       "    </tr>\n",
       "  </tbody>\n",
       "</table>\n",
       "</div>"
      ],
      "text/plain": [
       "                  source                                               text  \\\n",
       "5236  Twitter for iPhone  I urge all Americans to participate in #takeba...   \n",
       "6458  Twitter for iPhone  The Democrats in the Southwest part of Virgini...   \n",
       "\n",
       "      retweet_count  favorite_count  is_retweet         tweet_dates  \\\n",
       "5236        11885.0         49952.0       False 2018-04-27 19:23:23   \n",
       "6458        16003.0         71175.0       False 2017-10-14 21:27:22   \n",
       "\n",
       "      fave_count_adj engagement  sentiment_rank sentiment  subjectivity_rank  \n",
       "5236        0.599736        low        0.250000   neutral           0.250000  \n",
       "6458        0.937889        low       -0.194444  negative          -0.194444  "
      ]
     },
     "execution_count": 19,
     "metadata": {},
     "output_type": "execute_result"
    }
   ],
   "source": [
    "df.sample(n=2)"
   ]
  },
  {
   "cell_type": "code",
   "execution_count": 20,
   "metadata": {},
   "outputs": [
    {
     "data": {
      "text/plain": [
       "Text(0.5, 1.0, 'How subjective his language is')"
      ]
     },
     "execution_count": 20,
     "metadata": {},
     "output_type": "execute_result"
    },
    {
     "data": {
      "image/png": "[encoded data removed]",
      "text/plain": [
       "<Figure size 432x288 with 1 Axes>"
      ]
     },
     "metadata": {
      "needs_background": "light"
     },
     "output_type": "display_data"
    }
   ],
   "source": [
    "df['subjectivity_rank'].clip(lower = 0.0,upper=1.0).hist()\n",
    "plt.title('How subjective his language is', fontsize = 20)"
   ]
  },
  {
   "cell_type": "code",
   "execution_count": 21,
   "metadata": {},
   "outputs": [],
   "source": [
    "#Interval is objective 0.0 to subjective 1.0\n",
    "cuts = [0.0, 0.5, 1]\n",
    "category = ['objective', 'subjective']\n",
    "df['subjectivity'] = pd.cut(df['subjectivity_rank'].values, bins = cuts, labels = category)"
   ]
  },
  {
   "cell_type": "code",
   "execution_count": 23,
   "metadata": {},
   "outputs": [
    {
     "data": {
      "text/plain": [
       "Text(0.5, 0, 'Subjectivity')"
      ]
     },
     "execution_count": 23,
     "metadata": {},
     "output_type": "execute_result"
    },
    {
     "data": {
      "image/png": "[encoded data removed]",
      "text/plain": [
       "<Figure size 432x288 with 1 Axes>"
      ]
     },
     "metadata": {
      "needs_background": "light"
     },
     "output_type": "display_data"
    }
   ],
   "source": [
    "sns.barplot(x = df['subjectivity'].value_counts().index, y = df['subjectivity'].value_counts().values)\n",
    "plt.xlabel('Subjectivity', fontsize = 20)"
   ]
  },
  {
   "cell_type": "code",
   "execution_count": 27,
   "metadata": {},
   "outputs": [],
   "source": [
    "cuts = [0.0, 0.5,0.55, 1]\n",
    "category = ['objective', 'middle', 'subjective']\n",
    "df['subjectivity_modified'] = pd.cut(df['subjectivity_rank'].values, bins = cuts, labels = category)"
   ]
  },
  {
   "cell_type": "code",
   "execution_count": 28,
   "metadata": {},
   "outputs": [
    {
     "data": {
      "text/plain": [
       "count    38189.000000\n",
       "mean         0.184221\n",
       "std          0.357710\n",
       "min         -1.000000\n",
       "25%          0.000000\n",
       "50%          0.100000\n",
       "75%          0.400000\n",
       "max          1.000000\n",
       "Name: subjectivity_rank, dtype: float64"
      ]
     },
     "execution_count": 28,
     "metadata": {},
     "output_type": "execute_result"
    }
   ],
   "source": [
    "df['subjectivity_rank'].describe()"
   ]
  },
  {
   "cell_type": "code",
   "execution_count": 30,
   "metadata": {},
   "outputs": [
    {
     "data": {
      "text/plain": [
       "Text(0.5, 0, 'Subjectivity with more specific bins')"
      ]
     },
     "execution_count": 30,
     "metadata": {},
     "output_type": "execute_result"
    },
    {
     "data": {
      "image/png": "[encoded data removed]",
      "text/plain": [
       "<Figure size 432x288 with 1 Axes>"
      ]
     },
     "metadata": {
      "needs_background": "light"
     },
     "output_type": "display_data"
    }
   ],
   "source": [
    "sns.barplot(x = df['subjectivity_modified'].value_counts().index, y = df['subjectivity_modified'].value_counts().values)\n",
    "plt.xlabel('Subjectivity with more specific bins', fontsize = 20)"
   ]
  },
  {
   "cell_type": "code",
   "execution_count": 50,
   "metadata": {},
   "outputs": [
    {
     "data": {
      "text/plain": [
       "pandas.core.series.Series"
      ]
     },
     "execution_count": 50,
     "metadata": {},
     "output_type": "execute_result"
    }
   ],
   "source": [
    "g = df.groupby(by = df[\"tweet_dates\"].dt.year)['sentiment']\n",
    "nine = g.get_group(2019)\n",
    "type(nine)"
   ]
  },
  {
   "cell_type": "code",
   "execution_count": 52,
   "metadata": {},
   "outputs": [],
   "source": [
    "#sns.distplot(x = nine.index, hist = True)"
   ]
  },
  {
   "cell_type": "code",
   "execution_count": 35,
   "metadata": {},
   "outputs": [],
   "source": [
    "#A function that can detect how popular a work or phrase is in the tweets \n",
    "def catch_phrase_finder(tweet):\n",
    "    blob = TextBlob(tweet)\n",
    "    return blob.words.count('Obama')"
   ]
  },
  {
   "cell_type": "code",
   "execution_count": 36,
   "metadata": {},
   "outputs": [
    {
     "data": {
      "text/plain": [
       "(122, 13)"
      ]
     },
     "execution_count": 36,
     "metadata": {},
     "output_type": "execute_result"
    }
   ],
   "source": [
    "loser = df['text'].apply(catch_phrase_finder)\n",
    "df[loser.values > 0].shape"
   ]
  },
  {
   "cell_type": "code",
   "execution_count": 83,
   "metadata": {},
   "outputs": [
    {
     "data": {
      "text/plain": [
       "(272, 10)"
      ]
     },
     "execution_count": 83,
     "metadata": {},
     "output_type": "execute_result"
    }
   ],
   "source": [
    "sad = df['text'].apply(catch_phrase_finder)\n",
    "df[sad.values > 0].shape"
   ]
  },
  {
   "cell_type": "code",
   "execution_count": 87,
   "metadata": {},
   "outputs": [
    {
     "data": {
      "text/plain": [
       "(305, 10)"
      ]
     },
     "execution_count": 87,
     "metadata": {},
     "output_type": "execute_result"
    }
   ],
   "source": [
    "Russia = df['text'].apply(catch_phrase_finder)\n",
    "df[Russia.values > 0].shape"
   ]
  },
  {
   "cell_type": "code",
   "execution_count": 54,
   "metadata": {},
   "outputs": [
    {
     "data": {
      "text/plain": [
       "(285, 10)"
      ]
     },
     "execution_count": 54,
     "metadata": {},
     "output_type": "execute_result"
    }
   ],
   "source": [
    "Iran = df['text'].apply(catch_phrase_finder)\n",
    "df[Iran.values > 0].shape"
   ]
  },
  {
   "cell_type": "code",
   "execution_count": 37,
   "metadata": {},
   "outputs": [
    {
     "data": {
      "text/plain": [
       "(122, 13)"
      ]
     },
     "execution_count": 37,
     "metadata": {},
     "output_type": "execute_result"
    }
   ],
   "source": [
    "Obama = df['text'].apply(catch_phrase_finder)\n",
    "df[Obama.values > 0].shape"
   ]
  },
  {
   "cell_type": "code",
   "execution_count": 44,
   "metadata": {},
   "outputs": [],
   "source": [
    "blobby_tweets = []\n",
    "for tweet in df['text']:\n",
    "    blobby_tweets.append(tweet)"
   ]
  },
  {
   "cell_type": "code",
   "execution_count": 46,
   "metadata": {},
   "outputs": [
    {
     "data": {
      "text/plain": [
       "str"
      ]
     },
     "execution_count": 46,
     "metadata": {},
     "output_type": "execute_result"
    }
   ],
   "source": [
    "type(blobby_tweets[0])"
   ]
  },
  {
   "cell_type": "code",
   "execution_count": null,
   "metadata": {},
   "outputs": [],
   "source": []
  }
 ],
 "metadata": {
  "kernelspec": {
   "display_name": "Python 3",
   "language": "python",
   "name": "python3"
  },
  "language_info": {
   "codemirror_mode": {
    "name": "ipython",
    "version": 3
   },
   "file_extension": ".py",
   "mimetype": "text/x-python",
   "name": "python",
   "nbconvert_exporter": "python",
   "pygments_lexer": "ipython3",
   "version": "3.7.1"
  }
 },
 "nbformat": 4,
 "nbformat_minor": 2
}
