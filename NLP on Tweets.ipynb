{
 "cells": [
  {
   "cell_type": "code",
   "execution_count": 52,
   "metadata": {},
   "outputs": [],
   "source": [
    "import pandas as pd\n",
    "import datetime\n",
    "import numpy as np\n",
    "import seaborn as sns\n",
    "import matplotlib.pyplot as plt\n",
    "import matplotlib.ticker as ptk\n",
    "\n",
    "from sklearn.model_selection import train_test_split\n",
    "from sklearn.feature_extraction.text import CountVectorizer, TfidfVectorizer\n",
    "from sklearn.naive_bayes import MultinomialNB       \n",
    "from sklearn import metrics\n",
    "\n",
    "from textblob import TextBlob\n",
    "\n",
    "sns.set(style=\"whitegrid\")\n",
    "%matplotlib inline\n",
    "\n",
    "plt.rcParams['figure.figsize'] = (16, 6)\n",
    "plt.rcParams['font.size'] = 18\n",
    "plt.style.use(\"fivethirtyeight\")\n",
    "sns.set(style=\"whitegrid\")"
   ]
  },
  {
   "cell_type": "code",
   "execution_count": 53,
   "metadata": {},
   "outputs": [],
   "source": [
    "df = pd.read_csv('./original_tweets_corpes.csv')\n",
    "df['tweet_dates']= pd.to_datetime(df['tweet_dates'], errors = 'coerce')"
   ]
  },
  {
   "cell_type": "code",
   "execution_count": 54,
   "metadata": {},
   "outputs": [
    {
     "data": {
      "text/html": [
       "<div>\n",
       "<style scoped>\n",
       "    .dataframe tbody tr th:only-of-type {\n",
       "        vertical-align: middle;\n",
       "    }\n",
       "\n",
       "    .dataframe tbody tr th {\n",
       "        vertical-align: top;\n",
       "    }\n",
       "\n",
       "    .dataframe thead th {\n",
       "        text-align: right;\n",
       "    }\n",
       "</style>\n",
       "<table border=\"1\" class=\"dataframe\">\n",
       "  <thead>\n",
       "    <tr style=\"text-align: right;\">\n",
       "      <th></th>\n",
       "      <th>source</th>\n",
       "      <th>text</th>\n",
       "      <th>retweet_count</th>\n",
       "      <th>favorite_count</th>\n",
       "      <th>is_retweet</th>\n",
       "      <th>tweet_dates</th>\n",
       "    </tr>\n",
       "  </thead>\n",
       "  <tbody>\n",
       "    <tr>\n",
       "      <th>36621</th>\n",
       "      <td>Twitter Web Client</td>\n",
       "      <td>The #CelebrityApprentice Sunday night on NBC a...</td>\n",
       "      <td>32.0</td>\n",
       "      <td>8.0</td>\n",
       "      <td>False</td>\n",
       "      <td>2012-04-06 14:24:08</td>\n",
       "    </tr>\n",
       "    <tr>\n",
       "      <th>8771</th>\n",
       "      <td>Twitter for Android</td>\n",
       "      <td>We have all got to come together and win this ...</td>\n",
       "      <td>19038.0</td>\n",
       "      <td>48403.0</td>\n",
       "      <td>False</td>\n",
       "      <td>2016-10-17 12:35:45</td>\n",
       "    </tr>\n",
       "    <tr>\n",
       "      <th>12976</th>\n",
       "      <td>Twitter for iPhone</td>\n",
       "      <td>To show you how politicians act Bobby Jindal s...</td>\n",
       "      <td>1203.0</td>\n",
       "      <td>3139.0</td>\n",
       "      <td>False</td>\n",
       "      <td>2015-11-21 14:35:20</td>\n",
       "    </tr>\n",
       "    <tr>\n",
       "      <th>16198</th>\n",
       "      <td>Instagram</td>\n",
       "      <td>Standing ovation after promising to bring the ...</td>\n",
       "      <td>40.0</td>\n",
       "      <td>92.0</td>\n",
       "      <td>False</td>\n",
       "      <td>2015-06-04 22:44:17</td>\n",
       "    </tr>\n",
       "    <tr>\n",
       "      <th>15351</th>\n",
       "      <td>Twitter Web Client</td>\n",
       "      <td>CNN: \"New GOP polls show Trump's favorability ...</td>\n",
       "      <td>304.0</td>\n",
       "      <td>722.0</td>\n",
       "      <td>False</td>\n",
       "      <td>2015-07-16 20:28:53</td>\n",
       "    </tr>\n",
       "    <tr>\n",
       "      <th>22864</th>\n",
       "      <td>Twitter Web Client</td>\n",
       "      <td>via American Spectator  @AmSpec \"Trump Card\" b...</td>\n",
       "      <td>12.0</td>\n",
       "      <td>15.0</td>\n",
       "      <td>False</td>\n",
       "      <td>2014-07-03 15:02:04</td>\n",
       "    </tr>\n",
       "  </tbody>\n",
       "</table>\n",
       "</div>"
      ],
      "text/plain": [
       "                    source                                               text  \\\n",
       "36621   Twitter Web Client  The #CelebrityApprentice Sunday night on NBC a...   \n",
       "8771   Twitter for Android  We have all got to come together and win this ...   \n",
       "12976   Twitter for iPhone  To show you how politicians act Bobby Jindal s...   \n",
       "16198            Instagram  Standing ovation after promising to bring the ...   \n",
       "15351   Twitter Web Client  CNN: \"New GOP polls show Trump's favorability ...   \n",
       "22864   Twitter Web Client  via American Spectator  @AmSpec \"Trump Card\" b...   \n",
       "\n",
       "       retweet_count  favorite_count  is_retweet         tweet_dates  \n",
       "36621           32.0             8.0       False 2012-04-06 14:24:08  \n",
       "8771         19038.0         48403.0       False 2016-10-17 12:35:45  \n",
       "12976         1203.0          3139.0       False 2015-11-21 14:35:20  \n",
       "16198           40.0            92.0       False 2015-06-04 22:44:17  \n",
       "15351          304.0           722.0       False 2015-07-16 20:28:53  \n",
       "22864           12.0            15.0       False 2014-07-03 15:02:04  "
      ]
     },
     "execution_count": 54,
     "metadata": {},
     "output_type": "execute_result"
    }
   ],
   "source": [
    "df.sample(n=6)"
   ]
  },
  {
   "cell_type": "code",
   "execution_count": 55,
   "metadata": {},
   "outputs": [
    {
     "data": {
      "text/plain": [
       "count     38189.000000\n",
       "mean      21616.210008\n",
       "std       41552.669856\n",
       "min           0.000000\n",
       "25%          27.000000\n",
       "50%         180.000000\n",
       "75%       19848.000000\n",
       "max      879647.000000\n",
       "Name: favorite_count, dtype: float64"
      ]
     },
     "execution_count": 55,
     "metadata": {},
     "output_type": "execute_result"
    }
   ],
   "source": [
    "df[\"favorite_count\"].describe()"
   ]
  },
  {
   "cell_type": "code",
   "execution_count": 56,
   "metadata": {},
   "outputs": [],
   "source": [
    "annual_median = df.groupby(by=df[\"tweet_dates\"].dt.year)[\"favorite_count\"].median()\n",
    "df[\"fave_count_adj\"] = df[\"favorite_count\"] / annual_median[df[\"tweet_dates\"].dt.year.values].values"
   ]
  },
  {
   "cell_type": "code",
   "execution_count": 57,
   "metadata": {},
   "outputs": [
    {
     "data": {
      "text/plain": [
       "count    38189.000000\n",
       "mean         4.157976\n",
       "std         45.873473\n",
       "min          0.000000\n",
       "25%          0.489796\n",
       "50%          1.000000\n",
       "75%          2.222222\n",
       "max       3813.115385\n",
       "Name: fave_count_adj, dtype: float64"
      ]
     },
     "execution_count": 57,
     "metadata": {},
     "output_type": "execute_result"
    }
   ],
   "source": [
    "df[\"fave_count_adj\"].describe()"
   ]
  },
  {
   "cell_type": "code",
   "execution_count": 58,
   "metadata": {
    "scrolled": true
   },
   "outputs": [
    {
     "data": {
      "text/plain": [
       "Text(0.5, 1.0, 'testing the possible bin sizes')"
      ]
     },
     "execution_count": 58,
     "metadata": {},
     "output_type": "execute_result"
    },
    {
     "data": {
      "image/png": "[encoded data removed]",
      "text/plain": [
       "<Figure size 1152x432 with 1 Axes>"
      ]
     },
     "metadata": {},
     "output_type": "display_data"
    }
   ],
   "source": [
    "df['fave_count_adj'].clip(upper=5.0).hist()\n",
    "plt.title('testing the possible bin sizes', fontsize = 20)"
   ]
  },
  {
   "cell_type": "code",
   "execution_count": 59,
   "metadata": {},
   "outputs": [],
   "source": [
    "cuts = [-1, 1, 5, np.inf]\n",
    "engage_category = ['low', 'med', 'high']\n",
    "df['engagement'] = pd.cut(df['fave_count_adj'].values, bins = cuts, labels = engage_category)"
   ]
  },
  {
   "cell_type": "code",
   "execution_count": 60,
   "metadata": {},
   "outputs": [
    {
     "data": {
      "text/plain": [
       "low     19219\n",
       "med     13268\n",
       "high     5702\n",
       "Name: engagement, dtype: int64"
      ]
     },
     "execution_count": 60,
     "metadata": {},
     "output_type": "execute_result"
    }
   ],
   "source": [
    "df['engagement'].value_counts()"
   ]
  },
  {
   "cell_type": "code",
   "execution_count": 61,
   "metadata": {},
   "outputs": [],
   "source": [
    "low_class = 19115"
   ]
  },
  {
   "cell_type": "markdown",
   "metadata": {},
   "source": [
    "## Naive Bayes Classification Model"
   ]
  },
  {
   "cell_type": "code",
   "execution_count": 62,
   "metadata": {},
   "outputs": [],
   "source": [
    "X = df['text']\n",
    "y = df['engagement']"
   ]
  },
  {
   "cell_type": "code",
   "execution_count": 63,
   "metadata": {},
   "outputs": [
    {
     "data": {
      "text/plain": [
       "(28641, 29629)"
      ]
     },
     "execution_count": 63,
     "metadata": {},
     "output_type": "execute_result"
    }
   ],
   "source": [
    "X_train, X_test, y_train, y_test = train_test_split(X, y, random_state= 4)\n",
    "vect = CountVectorizer(lowercase = True)\n",
    "X_train_dtm = vect.fit_transform(X_train)\n",
    "X_test_dtm = vect.transform(X_test)\n",
    "nb = MultinomialNB()\n",
    "nb.fit(X_train_dtm, y_train)\n",
    "y_pred_class = nb.predict(X_test_dtm)\n",
    "NB_CV_accuracy = metrics.accuracy_score(y_test, y_pred_class)\n",
    "X_train_dtm.shape"
   ]
  },
  {
   "cell_type": "code",
   "execution_count": 64,
   "metadata": {},
   "outputs": [
    {
     "name": "stdout",
     "output_type": "stream",
     "text": [
      "Baseline accuracy is 50.3291205897841%\n",
      "Using NB model accuracy is 61.19606200251362%\n"
     ]
    }
   ],
   "source": [
    "print(\"Baseline accuracy is {}%\".format((low_class / 37980) * 100))\n",
    "print(\"Using NB model accuracy is {}%\".format(NB_CV_accuracy * 100))"
   ]
  },
  {
   "cell_type": "code",
   "execution_count": 65,
   "metadata": {},
   "outputs": [
    {
     "data": {
      "text/plain": [
       "(28641, 29629)"
      ]
     },
     "execution_count": 65,
     "metadata": {},
     "output_type": "execute_result"
    }
   ],
   "source": [
    "#Using TfidVectorizer() which normalizes the matrix values\n",
    "X_train, X_test, y_train, y_test = train_test_split(X, y, random_state= 4)\n",
    "vect_TFID = TfidfVectorizer(lowercase = True)\n",
    "X_train_dtm = vect_TFID.fit_transform(X_train)\n",
    "X_test_dtm = vect_TFID.transform(X_test)\n",
    "nb = MultinomialNB()\n",
    "nb.fit(X_train_dtm, y_train)\n",
    "y_pred_class = nb.predict(X_test_dtm)\n",
    "NB_TFI_accuracy = metrics.accuracy_score(y_test, y_pred_class)\n",
    "X_train_dtm.shape"
   ]
  },
  {
   "cell_type": "code",
   "execution_count": 66,
   "metadata": {},
   "outputs": [
    {
     "name": "stdout",
     "output_type": "stream",
     "text": [
      "Baseline accuracy is 50.3291205897841%\n",
      "Using NB model accuracy is 61.19606200251362%\n",
      "Using NB model using the TfidVectorizer accuracy is 59.530791788856305%\n"
     ]
    }
   ],
   "source": [
    "print(\"Baseline accuracy is {}%\".format((low_class / 37980) * 100))\n",
    "print(\"Using NB model accuracy is {}%\".format(NB_CV_accuracy * 100))\n",
    "print(\"Using NB model using the TfidVectorizer accuracy is {}%\".format(NB_TFI_accuracy * 100))"
   ]
  },
  {
   "cell_type": "markdown",
   "metadata": {},
   "source": [
    "## Modifying the parameters of countvectorizer\n",
    "I printed the number of features each X_train_dtm collects everytime I change a parameter of CountVectorizer() to show a corrolation between higher number of features and accuracy \n",
    "## stop_words\n"
   ]
  },
  {
   "cell_type": "code",
   "execution_count": 67,
   "metadata": {},
   "outputs": [
    {
     "name": "stdout",
     "output_type": "stream",
     "text": [
      "Accuracy:  61.70925848345203\n"
     ]
    },
    {
     "data": {
      "text/plain": [
       "(28641, 29337)"
      ]
     },
     "execution_count": 67,
     "metadata": {},
     "output_type": "execute_result"
    }
   ],
   "source": [
    "#string {‘english’}\n",
    "X_train, X_test, y_train, y_test = train_test_split(X, y, random_state= 4)\n",
    "vect = CountVectorizer(lowercase = True, stop_words = 'english')\n",
    "X_train_dtm = vect.fit_transform(X_train)\n",
    "X_test_dtm = vect.transform(X_test)\n",
    "nb = MultinomialNB()\n",
    "nb.fit(X_train_dtm, y_train)\n",
    "y_pred_class = nb.predict(X_test_dtm)\n",
    "print(\"Accuracy: \",metrics.accuracy_score(y_test, y_pred_class)*100)\n",
    "X_train_dtm.shape"
   ]
  },
  {
   "cell_type": "markdown",
   "metadata": {},
   "source": [
    "## min_df + stop_words"
   ]
  },
  {
   "cell_type": "code",
   "execution_count": 68,
   "metadata": {},
   "outputs": [
    {
     "name": "stdout",
     "output_type": "stream",
     "text": [
      "Accuracy:  62.107247591118565\n"
     ]
    },
    {
     "data": {
      "text/plain": [
       "(28641, 12694)"
      ]
     },
     "execution_count": 68,
     "metadata": {},
     "output_type": "execute_result"
    }
   ],
   "source": [
    "X_train, X_test, y_train, y_test = train_test_split(X, y, random_state= 4)\n",
    "vect = CountVectorizer(lowercase = True, stop_words = 'english', min_df = 2)\n",
    "X_train_dtm = vect.fit_transform(X_train)\n",
    "X_test_dtm = vect.transform(X_test)\n",
    "nb = MultinomialNB()\n",
    "nb.fit(X_train_dtm, y_train)\n",
    "y_pred_class = nb.predict(X_test_dtm)\n",
    "print(\"Accuracy: \",metrics.accuracy_score(y_test, y_pred_class)*100)\n",
    "X_train_dtm.shape"
   ]
  },
  {
   "cell_type": "markdown",
   "metadata": {},
   "source": [
    "## min_df alone doesn't improve performance"
   ]
  },
  {
   "cell_type": "code",
   "execution_count": 69,
   "metadata": {},
   "outputs": [
    {
     "name": "stdout",
     "output_type": "stream",
     "text": [
      "Accuracy:  61.61499790532049\n"
     ]
    },
    {
     "data": {
      "text/plain": [
       "(28641, 12977)"
      ]
     },
     "execution_count": 69,
     "metadata": {},
     "output_type": "execute_result"
    }
   ],
   "source": [
    "X_train, X_test, y_train, y_test = train_test_split(X, y, random_state= 4)\n",
    "vect = CountVectorizer(lowercase = True, min_df = 2)\n",
    "X_train_dtm = vect.fit_transform(X_train)\n",
    "X_test_dtm = vect.transform(X_test)\n",
    "nb = MultinomialNB()\n",
    "nb.fit(X_train_dtm, y_train)\n",
    "y_pred_class = nb.predict(X_test_dtm)\n",
    "print(\"Accuracy: \",metrics.accuracy_score(y_test, y_pred_class)*100)\n",
    "X_train_dtm.shape"
   ]
  },
  {
   "cell_type": "code",
   "execution_count": 70,
   "metadata": {},
   "outputs": [
    {
     "name": "stdout",
     "output_type": "stream",
     "text": [
      "Accuracy:  61.05990783410138\n"
     ]
    },
    {
     "data": {
      "text/plain": [
       "(28641, 7444)"
      ]
     },
     "execution_count": 70,
     "metadata": {},
     "output_type": "execute_result"
    }
   ],
   "source": [
    "X_train, X_test, y_train, y_test = train_test_split(X, y, random_state= 4)\n",
    "vect = CountVectorizer(lowercase = True, min_df = 4)\n",
    "X_train_dtm = vect.fit_transform(X_train)\n",
    "X_test_dtm = vect.transform(X_test)\n",
    "nb = MultinomialNB()\n",
    "nb.fit(X_train_dtm, y_train)\n",
    "y_pred_class = nb.predict(X_test_dtm)\n",
    "print(\"Accuracy: \",metrics.accuracy_score(y_test, y_pred_class)*100)\n",
    "X_train_dtm.shape"
   ]
  },
  {
   "cell_type": "markdown",
   "metadata": {},
   "source": [
    "## ngram_range"
   ]
  },
  {
   "cell_type": "code",
   "execution_count": 71,
   "metadata": {},
   "outputs": [
    {
     "name": "stdout",
     "output_type": "stream",
     "text": [
      "Accuracy:  61.405529953917046\n"
     ]
    },
    {
     "data": {
      "text/plain": [
       "(28641, 234978)"
      ]
     },
     "execution_count": 71,
     "metadata": {},
     "output_type": "execute_result"
    }
   ],
   "source": [
    "X_train, X_test, y_train, y_test = train_test_split(X, y, random_state= 4)\n",
    "vect = CountVectorizer(lowercase = True, ngram_range=(1,2))\n",
    "X_train_dtm = vect.fit_transform(X_train)\n",
    "X_test_dtm = vect.transform(X_test)\n",
    "nb = MultinomialNB()\n",
    "nb.fit(X_train_dtm, y_train)\n",
    "y_pred_class = nb.predict(X_test_dtm)\n",
    "print(\"Accuracy: \",metrics.accuracy_score(y_test, y_pred_class)*100)\n",
    "X_train_dtm.shape"
   ]
  },
  {
   "cell_type": "code",
   "execution_count": 72,
   "metadata": {},
   "outputs": [
    {
     "name": "stdout",
     "output_type": "stream",
     "text": [
      "Accuracy:  61.20653540008378\n"
     ]
    },
    {
     "data": {
      "text/plain": [
       "(28641, 594783)"
      ]
     },
     "execution_count": 72,
     "metadata": {},
     "output_type": "execute_result"
    }
   ],
   "source": [
    "X_train, X_test, y_train, y_test = train_test_split(X, y, random_state= 4)\n",
    "vect = CountVectorizer(lowercase = True, ngram_range=(1,3))\n",
    "X_train_dtm = vect.fit_transform(X_train)\n",
    "X_test_dtm = vect.transform(X_test)\n",
    "nb = MultinomialNB()\n",
    "nb.fit(X_train_dtm, y_train)\n",
    "y_pred_class = nb.predict(X_test_dtm)\n",
    "print(\"Accuracy: \",metrics.accuracy_score(y_test, y_pred_class)*100)\n",
    "X_train_dtm.shape"
   ]
  },
  {
   "cell_type": "markdown",
   "metadata": {},
   "source": [
    "# Sentiment Analysis"
   ]
  },
  {
   "cell_type": "code",
   "execution_count": 73,
   "metadata": {},
   "outputs": [],
   "source": [
    "#Creating function to apply a library method to series\n",
    "#-1 is most negative sentiment rank, 1 is the most positive\n",
    "def detect_sentiment(tweet):\n",
    "    return TextBlob(tweet).sentiment.polarity"
   ]
  },
  {
   "cell_type": "code",
   "execution_count": 74,
   "metadata": {},
   "outputs": [],
   "source": [
    "df['sentiment_rank'] = df['text'].apply(detect_sentiment)"
   ]
  },
  {
   "cell_type": "code",
   "execution_count": 75,
   "metadata": {},
   "outputs": [
    {
     "data": {
      "text/html": [
       "<div>\n",
       "<style scoped>\n",
       "    .dataframe tbody tr th:only-of-type {\n",
       "        vertical-align: middle;\n",
       "    }\n",
       "\n",
       "    .dataframe tbody tr th {\n",
       "        vertical-align: top;\n",
       "    }\n",
       "\n",
       "    .dataframe thead th {\n",
       "        text-align: right;\n",
       "    }\n",
       "</style>\n",
       "<table border=\"1\" class=\"dataframe\">\n",
       "  <thead>\n",
       "    <tr style=\"text-align: right;\">\n",
       "      <th></th>\n",
       "      <th>source</th>\n",
       "      <th>text</th>\n",
       "      <th>retweet_count</th>\n",
       "      <th>favorite_count</th>\n",
       "      <th>is_retweet</th>\n",
       "      <th>tweet_dates</th>\n",
       "      <th>fave_count_adj</th>\n",
       "      <th>engagement</th>\n",
       "      <th>sentiment_rank</th>\n",
       "    </tr>\n",
       "  </thead>\n",
       "  <tbody>\n",
       "    <tr>\n",
       "      <th>31862</th>\n",
       "      <td>Mobile Web (M5)</td>\n",
       "      <td>Bret had a target on his back from the get go...</td>\n",
       "      <td>24.0</td>\n",
       "      <td>21.0</td>\n",
       "      <td>False</td>\n",
       "      <td>2013-03-10 23:17:46</td>\n",
       "      <td>1.166667</td>\n",
       "      <td>med</td>\n",
       "      <td>0.000000</td>\n",
       "    </tr>\n",
       "    <tr>\n",
       "      <th>10285</th>\n",
       "      <td>Twitter for Android</td>\n",
       "      <td>The Inspector General's report on Crooked Hill...</td>\n",
       "      <td>7819.0</td>\n",
       "      <td>22346.0</td>\n",
       "      <td>False</td>\n",
       "      <td>2016-05-26 13:18:27</td>\n",
       "      <td>1.424128</td>\n",
       "      <td>med</td>\n",
       "      <td>-0.162500</td>\n",
       "    </tr>\n",
       "    <tr>\n",
       "      <th>4936</th>\n",
       "      <td>Twitter for iPhone</td>\n",
       "      <td>The U.S. has an increased economic value of mo...</td>\n",
       "      <td>16331.0</td>\n",
       "      <td>73172.0</td>\n",
       "      <td>False</td>\n",
       "      <td>2018-06-05 10:51:07</td>\n",
       "      <td>0.878521</td>\n",
       "      <td>low</td>\n",
       "      <td>0.612500</td>\n",
       "    </tr>\n",
       "    <tr>\n",
       "      <th>21445</th>\n",
       "      <td>Twitter for Android</td>\n",
       "      <td>Right now 4000 U.S. troops are stupidly headin...</td>\n",
       "      <td>677.0</td>\n",
       "      <td>545.0</td>\n",
       "      <td>False</td>\n",
       "      <td>2014-10-09 13:17:04</td>\n",
       "      <td>11.122449</td>\n",
       "      <td>high</td>\n",
       "      <td>-0.003571</td>\n",
       "    </tr>\n",
       "  </tbody>\n",
       "</table>\n",
       "</div>"
      ],
      "text/plain": [
       "                    source                                               text  \\\n",
       "31862      Mobile Web (M5)   Bret had a target on his back from the get go...   \n",
       "10285  Twitter for Android  The Inspector General's report on Crooked Hill...   \n",
       "4936    Twitter for iPhone  The U.S. has an increased economic value of mo...   \n",
       "21445  Twitter for Android  Right now 4000 U.S. troops are stupidly headin...   \n",
       "\n",
       "       retweet_count  favorite_count  is_retweet         tweet_dates  \\\n",
       "31862           24.0            21.0       False 2013-03-10 23:17:46   \n",
       "10285         7819.0         22346.0       False 2016-05-26 13:18:27   \n",
       "4936         16331.0         73172.0       False 2018-06-05 10:51:07   \n",
       "21445          677.0           545.0       False 2014-10-09 13:17:04   \n",
       "\n",
       "       fave_count_adj engagement  sentiment_rank  \n",
       "31862        1.166667        med        0.000000  \n",
       "10285        1.424128        med       -0.162500  \n",
       "4936         0.878521        low        0.612500  \n",
       "21445       11.122449       high       -0.003571  "
      ]
     },
     "execution_count": 75,
     "metadata": {},
     "output_type": "execute_result"
    }
   ],
   "source": [
    "df.sample(n=4)"
   ]
  },
  {
   "cell_type": "code",
   "execution_count": 76,
   "metadata": {},
   "outputs": [
    {
     "data": {
      "text/plain": [
       "count    38189.000000\n",
       "mean         0.184221\n",
       "std          0.357710\n",
       "min         -1.000000\n",
       "25%          0.000000\n",
       "50%          0.100000\n",
       "75%          0.400000\n",
       "max          1.000000\n",
       "Name: sentiment_rank, dtype: float64"
      ]
     },
     "execution_count": 76,
     "metadata": {},
     "output_type": "execute_result"
    }
   ],
   "source": [
    "df['sentiment_rank'].describe()"
   ]
  },
  {
   "cell_type": "code",
   "execution_count": 77,
   "metadata": {},
   "outputs": [
    {
     "name": "stderr",
     "output_type": "stream",
     "text": [
      "C:\\Users\\fs4re\\Anaconda3\\lib\\site-packages\\scipy\\stats\\stats.py:1713: FutureWarning: Using a non-tuple sequence for multidimensional indexing is deprecated; use `arr[tuple(seq)]` instead of `arr[seq]`. In the future this will be interpreted as an array index, `arr[np.array(seq)]`, which will result either in an error or a different result.\n",
      "  return np.add.reduce(sorted[indexer] * weights, axis=axis) / sumval\n"
     ]
    },
    {
     "data": {
      "text/plain": [
       "Text(0.5, 1.0, 'Distribution of the sentiment rank')"
      ]
     },
     "execution_count": 77,
     "metadata": {},
     "output_type": "execute_result"
    },
    {
     "data": {
      "image/png": "[encoded data removed]",
      "text/plain": [
       "<Figure size 1152x432 with 1 Axes>"
      ]
     },
     "metadata": {},
     "output_type": "display_data"
    }
   ],
   "source": [
    "sns.distplot(df['sentiment_rank'], hist = True, kde = False);\n",
    "plt.xlabel('Sentiment rank',fontsize = 20);\n",
    "plt.ylabel('Frequency of tweets',fontsize = 20);\n",
    "plt.title('Distribution of the sentiment rank', fontsize = 20)"
   ]
  },
  {
   "cell_type": "code",
   "execution_count": 78,
   "metadata": {},
   "outputs": [],
   "source": [
    "#Since the values of sentiment_rank are close to one another and somehow distributed evenly\n",
    "# I made the cuts based on values -1 to 0, 0 to 0.5, 0.5 to 1\n",
    "cuts = [-1, 0, 0.5, 1]\n",
    "senti_category = ['negative', 'neutral', 'positive']\n",
    "df['sentiment'] = pd.cut(df['sentiment_rank'].values, bins = cuts, labels = senti_category)"
   ]
  },
  {
   "cell_type": "code",
   "execution_count": 79,
   "metadata": {},
   "outputs": [
    {
     "data": {
      "text/plain": [
       "Text(0.5, 0, 'Sentiment categories')"
      ]
     },
     "execution_count": 79,
     "metadata": {},
     "output_type": "execute_result"
    },
    {
     "data": {
      "image/png": "[encoded data removed]",
      "text/plain": [
       "<Figure size 1152x432 with 1 Axes>"
      ]
     },
     "metadata": {},
     "output_type": "display_data"
    }
   ],
   "source": [
    "sns.barplot(x = df['sentiment'].value_counts().index, y = df['sentiment'].value_counts().values)\n",
    "plt.xlabel('Sentiment categories', fontsize = 20)"
   ]
  },
  {
   "cell_type": "code",
   "execution_count": 80,
   "metadata": {},
   "outputs": [],
   "source": [
    "g = df.groupby(by = df[\"tweet_dates\"].dt.year)['sentiment']\n",
    "nine = g.get_group(2019)"
   ]
  },
  {
   "cell_type": "code",
   "execution_count": 81,
   "metadata": {},
   "outputs": [
    {
     "ename": "TypeError",
     "evalue": "can only concatenate str (not \"float\") to str",
     "output_type": "error",
     "traceback": [
      "\u001b[1;31m---------------------------------------------------------------------------\u001b[0m",
      "\u001b[1;31mTypeError\u001b[0m                                 Traceback (most recent call last)",
      "\u001b[1;32m<ipython-input-81-77a3bfc621c8>\u001b[0m in \u001b[0;36m<module>\u001b[1;34m\u001b[0m\n\u001b[1;32m----> 1\u001b[1;33m \u001b[0msns\u001b[0m\u001b[1;33m.\u001b[0m\u001b[0mdistplot\u001b[0m\u001b[1;33m(\u001b[0m\u001b[0mnine\u001b[0m\u001b[1;33m,\u001b[0m \u001b[0mhist\u001b[0m \u001b[1;33m=\u001b[0m \u001b[1;32mTrue\u001b[0m\u001b[1;33m)\u001b[0m\u001b[1;33m\u001b[0m\u001b[1;33m\u001b[0m\u001b[0m\n\u001b[0m",
      "\u001b[1;32m~\\Anaconda3\\lib\\site-packages\\seaborn\\distributions.py\u001b[0m in \u001b[0;36mdistplot\u001b[1;34m(a, bins, hist, kde, rug, fit, hist_kws, kde_kws, rug_kws, fit_kws, color, vertical, norm_hist, axlabel, label, ax)\u001b[0m\n\u001b[0;32m    196\u001b[0m             \u001b[0mline\u001b[0m\u001b[1;33m,\u001b[0m \u001b[1;33m=\u001b[0m \u001b[0max\u001b[0m\u001b[1;33m.\u001b[0m\u001b[0mplot\u001b[0m\u001b[1;33m(\u001b[0m\u001b[1;36m0\u001b[0m\u001b[1;33m,\u001b[0m \u001b[0ma\u001b[0m\u001b[1;33m.\u001b[0m\u001b[0mmean\u001b[0m\u001b[1;33m(\u001b[0m\u001b[1;33m)\u001b[0m\u001b[1;33m)\u001b[0m\u001b[1;33m\u001b[0m\u001b[1;33m\u001b[0m\u001b[0m\n\u001b[0;32m    197\u001b[0m         \u001b[1;32melse\u001b[0m\u001b[1;33m:\u001b[0m\u001b[1;33m\u001b[0m\u001b[1;33m\u001b[0m\u001b[0m\n\u001b[1;32m--> 198\u001b[1;33m             \u001b[0mline\u001b[0m\u001b[1;33m,\u001b[0m \u001b[1;33m=\u001b[0m \u001b[0max\u001b[0m\u001b[1;33m.\u001b[0m\u001b[0mplot\u001b[0m\u001b[1;33m(\u001b[0m\u001b[0ma\u001b[0m\u001b[1;33m.\u001b[0m\u001b[0mmean\u001b[0m\u001b[1;33m(\u001b[0m\u001b[1;33m)\u001b[0m\u001b[1;33m,\u001b[0m \u001b[1;36m0\u001b[0m\u001b[1;33m)\u001b[0m\u001b[1;33m\u001b[0m\u001b[1;33m\u001b[0m\u001b[0m\n\u001b[0m\u001b[0;32m    199\u001b[0m         \u001b[0mcolor\u001b[0m \u001b[1;33m=\u001b[0m \u001b[0mline\u001b[0m\u001b[1;33m.\u001b[0m\u001b[0mget_color\u001b[0m\u001b[1;33m(\u001b[0m\u001b[1;33m)\u001b[0m\u001b[1;33m\u001b[0m\u001b[1;33m\u001b[0m\u001b[0m\n\u001b[0;32m    200\u001b[0m         \u001b[0mline\u001b[0m\u001b[1;33m.\u001b[0m\u001b[0mremove\u001b[0m\u001b[1;33m(\u001b[0m\u001b[1;33m)\u001b[0m\u001b[1;33m\u001b[0m\u001b[1;33m\u001b[0m\u001b[0m\n",
      "\u001b[1;32m~\\Anaconda3\\lib\\site-packages\\numpy\\core\\_methods.py\u001b[0m in \u001b[0;36m_mean\u001b[1;34m(a, axis, dtype, out, keepdims)\u001b[0m\n\u001b[0;32m     73\u001b[0m             \u001b[0mis_float16_result\u001b[0m \u001b[1;33m=\u001b[0m \u001b[1;32mTrue\u001b[0m\u001b[1;33m\u001b[0m\u001b[1;33m\u001b[0m\u001b[0m\n\u001b[0;32m     74\u001b[0m \u001b[1;33m\u001b[0m\u001b[0m\n\u001b[1;32m---> 75\u001b[1;33m     \u001b[0mret\u001b[0m \u001b[1;33m=\u001b[0m \u001b[0mumr_sum\u001b[0m\u001b[1;33m(\u001b[0m\u001b[0marr\u001b[0m\u001b[1;33m,\u001b[0m \u001b[0maxis\u001b[0m\u001b[1;33m,\u001b[0m \u001b[0mdtype\u001b[0m\u001b[1;33m,\u001b[0m \u001b[0mout\u001b[0m\u001b[1;33m,\u001b[0m \u001b[0mkeepdims\u001b[0m\u001b[1;33m)\u001b[0m\u001b[1;33m\u001b[0m\u001b[1;33m\u001b[0m\u001b[0m\n\u001b[0m\u001b[0;32m     76\u001b[0m     \u001b[1;32mif\u001b[0m \u001b[0misinstance\u001b[0m\u001b[1;33m(\u001b[0m\u001b[0mret\u001b[0m\u001b[1;33m,\u001b[0m \u001b[0mmu\u001b[0m\u001b[1;33m.\u001b[0m\u001b[0mndarray\u001b[0m\u001b[1;33m)\u001b[0m\u001b[1;33m:\u001b[0m\u001b[1;33m\u001b[0m\u001b[1;33m\u001b[0m\u001b[0m\n\u001b[0;32m     77\u001b[0m         ret = um.true_divide(\n",
      "\u001b[1;31mTypeError\u001b[0m: can only concatenate str (not \"float\") to str"
     ]
    },
    {
     "data": {
      "image/png": "[encoded data removed]",
      "text/plain": [
       "<Figure size 1152x432 with 1 Axes>"
      ]
     },
     "metadata": {},
     "output_type": "display_data"
    }
   ],
   "source": [
    "sns.distplot(nine, hist = True)"
   ]
  },
  {
   "cell_type": "code",
   "execution_count": 86,
   "metadata": {},
   "outputs": [],
   "source": [
    "#A function that can detect how popular a work or phrase is in the tweets \n",
    "def catch_phrase_finder(tweet):\n",
    "    blob = TextBlob(tweet)\n",
    "    return blob.words.count('Russia')"
   ]
  },
  {
   "cell_type": "code",
   "execution_count": 85,
   "metadata": {},
   "outputs": [
    {
     "data": {
      "text/plain": [
       "(122, 10)"
      ]
     },
     "execution_count": 85,
     "metadata": {},
     "output_type": "execute_result"
    }
   ],
   "source": [
    "loser = df['text'].apply(catch_phrase_finder)\n",
    "df[loser.values > 0].shape"
   ]
  },
  {
   "cell_type": "code",
   "execution_count": 83,
   "metadata": {},
   "outputs": [
    {
     "data": {
      "text/plain": [
       "(272, 10)"
      ]
     },
     "execution_count": 83,
     "metadata": {},
     "output_type": "execute_result"
    }
   ],
   "source": [
    "sad = df['text'].apply(catch_phrase_finder)\n",
    "df[sad.values > 0].shape"
   ]
  },
  {
   "cell_type": "code",
   "execution_count": 87,
   "metadata": {},
   "outputs": [
    {
     "data": {
      "text/plain": [
       "(305, 10)"
      ]
     },
     "execution_count": 87,
     "metadata": {},
     "output_type": "execute_result"
    }
   ],
   "source": [
    "Russia = df['text'].apply(catch_phrase_finder)\n",
    "df[Russia.values > 0].shape"
   ]
  },
  {
   "cell_type": "code",
   "execution_count": null,
   "metadata": {},
   "outputs": [],
   "source": []
  }
 ],
 "metadata": {
  "kernelspec": {
   "display_name": "Python 3",
   "language": "python",
   "name": "python3"
  },
  "language_info": {
   "codemirror_mode": {
    "name": "ipython",
    "version": 3
   },
   "file_extension": ".py",
   "mimetype": "text/x-python",
   "name": "python",
   "nbconvert_exporter": "python",
   "pygments_lexer": "ipython3",
   "version": "3.7.1"
  }
 },
 "nbformat": 4,
 "nbformat_minor": 2
}
