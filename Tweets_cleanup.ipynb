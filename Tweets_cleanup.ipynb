{
 "cells": [
  {
   "cell_type": "code",
   "execution_count": 30,
   "metadata": {},
   "outputs": [],
   "source": [
    "import pandas as pd\n",
    "import datetime\n",
    "import numpy as np\n",
    "import seaborn as sns\n",
    "import matplotlib.pyplot as plt\n",
    "\n",
    "%matplotlib inline"
   ]
  },
  {
   "cell_type": "code",
   "execution_count": 31,
   "metadata": {},
   "outputs": [],
   "source": [
    "file_path = './trump.txt'"
   ]
  },
  {
   "cell_type": "code",
   "execution_count": 32,
   "metadata": {},
   "outputs": [],
   "source": [
    "#Formatting data from text file into lists\n",
    "file_content = []\n",
    "\n",
    "with open(file_path) as file:\n",
    "    trump_tweets_text = file.readlines()\n",
    "    for content in trump_tweets_text:\n",
    "        file_content.append([content.strip()])\n",
    "        \n",
    "file.close()\n",
    "\n",
    "header = file_content[0]\n",
    "data = file_content[1:]\n",
    "col_names = header[0].split(',')\n",
    "tweets = []\n",
    "for item in data:\n",
    "    seperated_items = item[0].split(',')\n",
    "    tweets.append(seperated_items)"
   ]
  },
  {
   "cell_type": "code",
   "execution_count": 33,
   "metadata": {},
   "outputs": [],
   "source": [
    "#creating data frame out of file contents\n",
    "tweets_corpes_df = pd.DataFrame(columns = col_names, data = tweets)"
   ]
  },
  {
   "cell_type": "code",
   "execution_count": 34,
   "metadata": {},
   "outputs": [
    {
     "data": {
      "text/html": [
       "<div>\n",
       "<style scoped>\n",
       "    .dataframe tbody tr th:only-of-type {\n",
       "        vertical-align: middle;\n",
       "    }\n",
       "\n",
       "    .dataframe tbody tr th {\n",
       "        vertical-align: top;\n",
       "    }\n",
       "\n",
       "    .dataframe thead th {\n",
       "        text-align: right;\n",
       "    }\n",
       "</style>\n",
       "<table border=\"1\" class=\"dataframe\">\n",
       "  <thead>\n",
       "    <tr style=\"text-align: right;\">\n",
       "      <th></th>\n",
       "      <th>source</th>\n",
       "      <th>text</th>\n",
       "      <th>created_at</th>\n",
       "      <th>retweet_count</th>\n",
       "      <th>favorite_count</th>\n",
       "      <th>is_retweet</th>\n",
       "      <th>id_str</th>\n",
       "    </tr>\n",
       "  </thead>\n",
       "  <tbody>\n",
       "    <tr>\n",
       "      <th>0</th>\n",
       "      <td>Twitter for iPhone</td>\n",
       "      <td>“Congressman Van Drew (D-NJ) SLAMS Democrats f...</td>\n",
       "      <td>11-18-2019 16:06:19</td>\n",
       "      <td>2765</td>\n",
       "      <td>9167</td>\n",
       "      <td>false</td>\n",
       "      <td>1196459630060359686</td>\n",
       "    </tr>\n",
       "    <tr>\n",
       "      <th>1</th>\n",
       "      <td>Twitter for iPhone</td>\n",
       "      <td>Just finished a very good &amp;amp; cordial meetin...</td>\n",
       "      <td>11-18-2019 16:01:42</td>\n",
       "      <td>3193</td>\n",
       "      <td>12462</td>\n",
       "      <td>false</td>\n",
       "      <td>1196458467982270464</td>\n",
       "    </tr>\n",
       "    <tr>\n",
       "      <th>2</th>\n",
       "      <td>Twitter for iPhone</td>\n",
       "      <td>Just finished a very good &amp;amp; cordial meetin...</td>\n",
       "      <td>11-18-2019 15:49:55</td>\n",
       "      <td>2523</td>\n",
       "      <td>8981</td>\n",
       "      <td>false</td>\n",
       "      <td>1196455500940038144</td>\n",
       "    </tr>\n",
       "    <tr>\n",
       "      <th>3</th>\n",
       "      <td>Twitter for iPhone</td>\n",
       "      <td>....that I testify about the phony Impeachment...</td>\n",
       "      <td>11-18-2019 13:52:24</td>\n",
       "      <td>7224</td>\n",
       "      <td>26868</td>\n",
       "      <td>false</td>\n",
       "      <td>1196425928768929792</td>\n",
       "    </tr>\n",
       "    <tr>\n",
       "      <th>4</th>\n",
       "      <td>Twitter for iPhone</td>\n",
       "      <td>Our Crazy Do Nothing (where’s USMCA infrastruc...</td>\n",
       "      <td>11-18-2019 13:52:22</td>\n",
       "      <td>9905</td>\n",
       "      <td>33588</td>\n",
       "      <td>false</td>\n",
       "      <td>1196425921802178560</td>\n",
       "    </tr>\n",
       "    <tr>\n",
       "      <th>5</th>\n",
       "      <td>Twitter for iPhone</td>\n",
       "      <td>Never has the Republican Party been so united ...</td>\n",
       "      <td>11-18-2019 12:29:38</td>\n",
       "      <td>16484</td>\n",
       "      <td>67143</td>\n",
       "      <td>false</td>\n",
       "      <td>1196405099741896705</td>\n",
       "    </tr>\n",
       "    <tr>\n",
       "      <th>6</th>\n",
       "      <td>Twitter for iPhone</td>\n",
       "      <td>RT @SteveScalise: Schiff controls who testifie...</td>\n",
       "      <td>11-18-2019 12:14:37</td>\n",
       "      <td>13505</td>\n",
       "      <td>0</td>\n",
       "      <td>true</td>\n",
       "      <td>1196401321387216901</td>\n",
       "    </tr>\n",
       "  </tbody>\n",
       "</table>\n",
       "</div>"
      ],
      "text/plain": [
       "               source                                               text  \\\n",
       "0  Twitter for iPhone  “Congressman Van Drew (D-NJ) SLAMS Democrats f...   \n",
       "1  Twitter for iPhone  Just finished a very good &amp; cordial meetin...   \n",
       "2  Twitter for iPhone  Just finished a very good &amp; cordial meetin...   \n",
       "3  Twitter for iPhone  ....that I testify about the phony Impeachment...   \n",
       "4  Twitter for iPhone  Our Crazy Do Nothing (where’s USMCA infrastruc...   \n",
       "5  Twitter for iPhone  Never has the Republican Party been so united ...   \n",
       "6  Twitter for iPhone  RT @SteveScalise: Schiff controls who testifie...   \n",
       "\n",
       "            created_at retweet_count favorite_count is_retweet  \\\n",
       "0  11-18-2019 16:06:19          2765           9167      false   \n",
       "1  11-18-2019 16:01:42          3193          12462      false   \n",
       "2  11-18-2019 15:49:55          2523           8981      false   \n",
       "3  11-18-2019 13:52:24          7224          26868      false   \n",
       "4  11-18-2019 13:52:22          9905          33588      false   \n",
       "5  11-18-2019 12:29:38         16484          67143      false   \n",
       "6  11-18-2019 12:14:37         13505              0       true   \n",
       "\n",
       "                id_str  \n",
       "0  1196459630060359686  \n",
       "1  1196458467982270464  \n",
       "2  1196455500940038144  \n",
       "3  1196425928768929792  \n",
       "4  1196425921802178560  \n",
       "5  1196405099741896705  \n",
       "6  1196401321387216901  "
      ]
     },
     "execution_count": 34,
     "metadata": {},
     "output_type": "execute_result"
    }
   ],
   "source": [
    "#Dataframe issues: ALL dtypes are objects-str \n",
    "#                  need to modify these columns: (created_at retweet_count favorite_count is_retweet)\n",
    "#                  There are null values\n",
    "#                  Retweets are mixed in with original tweets\n",
    "tweets_corpes_df.head(7)"
   ]
  },
  {
   "cell_type": "code",
   "execution_count": 35,
   "metadata": {
    "scrolled": true
   },
   "outputs": [
    {
     "name": "stdout",
     "output_type": "stream",
     "text": [
      "<class 'pandas.core.frame.DataFrame'>\n",
      "RangeIndex: 42774 entries, 0 to 42773\n",
      "Data columns (total 7 columns):\n",
      "source            42774 non-null object\n",
      "text              42770 non-null object\n",
      "created_at        42767 non-null object\n",
      "retweet_count     42767 non-null object\n",
      "favorite_count    42767 non-null object\n",
      "is_retweet        42767 non-null object\n",
      "id_str            42764 non-null object\n",
      "dtypes: object(7)\n",
      "memory usage: 2.3+ MB\n"
     ]
    }
   ],
   "source": [
    "tweets_corpes_df.info()"
   ]
  },
  {
   "cell_type": "code",
   "execution_count": 36,
   "metadata": {},
   "outputs": [
    {
     "data": {
      "text/plain": [
       "source             0\n",
       "text               4\n",
       "created_at         7\n",
       "retweet_count      7\n",
       "favorite_count     7\n",
       "is_retweet         7\n",
       "id_str            10\n",
       "dtype: int64"
      ]
     },
     "execution_count": 36,
     "metadata": {},
     "output_type": "execute_result"
    }
   ],
   "source": [
    "tweets_corpes_df.isnull().sum()"
   ]
  },
  {
   "cell_type": "code",
   "execution_count": 37,
   "metadata": {},
   "outputs": [
    {
     "data": {
      "text/plain": [
       "Int64Index([42397, 42398, 42399, 42400], dtype='int64')"
      ]
     },
     "execution_count": 37,
     "metadata": {},
     "output_type": "execute_result"
    }
   ],
   "source": [
    "#Finding entries with null values\n",
    "tweets_corpes_df[tweets_corpes_df['text'].isnull()].index"
   ]
  },
  {
   "cell_type": "code",
   "execution_count": 38,
   "metadata": {},
   "outputs": [
    {
     "data": {
      "text/plain": [
       "Int64Index([42248, 42372, 42396, 42397, 42398, 42399, 42400], dtype='int64')"
      ]
     },
     "execution_count": 38,
     "metadata": {},
     "output_type": "execute_result"
    }
   ],
   "source": [
    "tweets_corpes_df[tweets_corpes_df['created_at'].isnull()].index"
   ]
  },
  {
   "cell_type": "code",
   "execution_count": 39,
   "metadata": {},
   "outputs": [
    {
     "data": {
      "text/plain": [
       "Int64Index([42248, 42372, 42396, 42397, 42398, 42399, 42400], dtype='int64')"
      ]
     },
     "execution_count": 39,
     "metadata": {},
     "output_type": "execute_result"
    }
   ],
   "source": [
    "tweets_corpes_df[tweets_corpes_df['retweet_count'].isnull()].index"
   ]
  },
  {
   "cell_type": "code",
   "execution_count": 40,
   "metadata": {
    "scrolled": true
   },
   "outputs": [
    {
     "data": {
      "text/html": [
       "<div>\n",
       "<style scoped>\n",
       "    .dataframe tbody tr th:only-of-type {\n",
       "        vertical-align: middle;\n",
       "    }\n",
       "\n",
       "    .dataframe tbody tr th {\n",
       "        vertical-align: top;\n",
       "    }\n",
       "\n",
       "    .dataframe thead th {\n",
       "        text-align: right;\n",
       "    }\n",
       "</style>\n",
       "<table border=\"1\" class=\"dataframe\">\n",
       "  <thead>\n",
       "    <tr style=\"text-align: right;\">\n",
       "      <th></th>\n",
       "      <th>source</th>\n",
       "      <th>text</th>\n",
       "      <th>created_at</th>\n",
       "      <th>retweet_count</th>\n",
       "      <th>favorite_count</th>\n",
       "      <th>is_retweet</th>\n",
       "      <th>id_str</th>\n",
       "    </tr>\n",
       "  </thead>\n",
       "  <tbody>\n",
       "    <tr>\n",
       "      <th>42248</th>\n",
       "      <td>TweetDeck</td>\n",
       "      <td>My interview which recently aired on CNBC's Sq...</td>\n",
       "      <td>None</td>\n",
       "      <td>None</td>\n",
       "      <td>None</td>\n",
       "      <td>None</td>\n",
       "      <td>None</td>\n",
       "    </tr>\n",
       "    <tr>\n",
       "      <th>42372</th>\n",
       "      <td>TweetDeck</td>\n",
       "      <td>http://goo.gl/AMNEE Countdown to @AmericaNowRa...</td>\n",
       "      <td>None</td>\n",
       "      <td>None</td>\n",
       "      <td>None</td>\n",
       "      <td>None</td>\n",
       "      <td>None</td>\n",
       "    </tr>\n",
       "    <tr>\n",
       "      <th>42396</th>\n",
       "      <td>TweetDeck</td>\n",
       "      <td>http://bit.ly/pwgGsQ</td>\n",
       "      <td>None</td>\n",
       "      <td>None</td>\n",
       "      <td>None</td>\n",
       "      <td>None</td>\n",
       "      <td>None</td>\n",
       "    </tr>\n",
       "    <tr>\n",
       "      <th>42397</th>\n",
       "      <td></td>\n",
       "      <td>None</td>\n",
       "      <td>None</td>\n",
       "      <td>None</td>\n",
       "      <td>None</td>\n",
       "      <td>None</td>\n",
       "      <td>None</td>\n",
       "    </tr>\n",
       "    <tr>\n",
       "      <th>42398</th>\n",
       "      <td>http://bit.ly/pwgGsQ</td>\n",
       "      <td>None</td>\n",
       "      <td>None</td>\n",
       "      <td>None</td>\n",
       "      <td>None</td>\n",
       "      <td>None</td>\n",
       "      <td>None</td>\n",
       "    </tr>\n",
       "    <tr>\n",
       "      <th>42399</th>\n",
       "      <td></td>\n",
       "      <td>None</td>\n",
       "      <td>None</td>\n",
       "      <td>None</td>\n",
       "      <td>None</td>\n",
       "      <td>None</td>\n",
       "      <td>None</td>\n",
       "    </tr>\n",
       "    <tr>\n",
       "      <th>42400</th>\n",
       "      <td></td>\n",
       "      <td>None</td>\n",
       "      <td>None</td>\n",
       "      <td>None</td>\n",
       "      <td>None</td>\n",
       "      <td>None</td>\n",
       "      <td>None</td>\n",
       "    </tr>\n",
       "  </tbody>\n",
       "</table>\n",
       "</div>"
      ],
      "text/plain": [
       "                     source  \\\n",
       "42248             TweetDeck   \n",
       "42372             TweetDeck   \n",
       "42396             TweetDeck   \n",
       "42397                         \n",
       "42398  http://bit.ly/pwgGsQ   \n",
       "42399                         \n",
       "42400                         \n",
       "\n",
       "                                                    text created_at  \\\n",
       "42248  My interview which recently aired on CNBC's Sq...       None   \n",
       "42372  http://goo.gl/AMNEE Countdown to @AmericaNowRa...       None   \n",
       "42396                               http://bit.ly/pwgGsQ       None   \n",
       "42397                                               None       None   \n",
       "42398                                               None       None   \n",
       "42399                                               None       None   \n",
       "42400                                               None       None   \n",
       "\n",
       "      retweet_count favorite_count is_retweet id_str  \n",
       "42248          None           None       None   None  \n",
       "42372          None           None       None   None  \n",
       "42396          None           None       None   None  \n",
       "42397          None           None       None   None  \n",
       "42398          None           None       None   None  \n",
       "42399          None           None       None   None  \n",
       "42400          None           None       None   None  "
      ]
     },
     "execution_count": 40,
     "metadata": {},
     "output_type": "execute_result"
    }
   ],
   "source": [
    "#The entries that have null values seem to be missing everything else \n",
    "#Showing this df shows the entries with null values\n",
    "null_release_mask = tweets_corpes_df['retweet_count'].isnull()\n",
    "tweets_corpes_df[null_release_mask]"
   ]
  },
  {
   "cell_type": "code",
   "execution_count": 41,
   "metadata": {},
   "outputs": [],
   "source": [
    "#Dropping the entries with null values to clean up df\n",
    "clean_tweets_df = tweets_corpes_df.dropna()"
   ]
  },
  {
   "cell_type": "code",
   "execution_count": 42,
   "metadata": {},
   "outputs": [
    {
     "data": {
      "text/plain": [
       "source            0\n",
       "text              0\n",
       "created_at        0\n",
       "retweet_count     0\n",
       "favorite_count    0\n",
       "is_retweet        0\n",
       "id_str            0\n",
       "dtype: int64"
      ]
     },
     "execution_count": 42,
     "metadata": {},
     "output_type": "execute_result"
    }
   ],
   "source": [
    "clean_tweets_df.isnull().sum()"
   ]
  },
  {
   "cell_type": "code",
   "execution_count": 43,
   "metadata": {},
   "outputs": [
    {
     "data": {
      "text/plain": [
       "(42764, 7)"
      ]
     },
     "execution_count": 43,
     "metadata": {},
     "output_type": "execute_result"
    }
   ],
   "source": [
    "clean_tweets_df.shape"
   ]
  },
  {
   "cell_type": "code",
   "execution_count": 44,
   "metadata": {},
   "outputs": [
    {
     "name": "stderr",
     "output_type": "stream",
     "text": [
      "C:\\Users\\fs4re\\Anaconda3\\lib\\site-packages\\ipykernel_launcher.py:3: SettingWithCopyWarning: \n",
      "A value is trying to be set on a copy of a slice from a DataFrame.\n",
      "Try using .loc[row_indexer,col_indexer] = value instead\n",
      "\n",
      "See the caveats in the documentation: http://pandas.pydata.org/pandas-docs/stable/indexing.html#indexing-view-versus-copy\n",
      "  This is separate from the ipykernel package so we can avoid doing imports until\n",
      "C:\\Users\\fs4re\\Anaconda3\\lib\\site-packages\\ipykernel_launcher.py:4: SettingWithCopyWarning: \n",
      "A value is trying to be set on a copy of a slice from a DataFrame.\n",
      "Try using .loc[row_indexer,col_indexer] = value instead\n",
      "\n",
      "See the caveats in the documentation: http://pandas.pydata.org/pandas-docs/stable/indexing.html#indexing-view-versus-copy\n",
      "  after removing the cwd from sys.path.\n",
      "C:\\Users\\fs4re\\Anaconda3\\lib\\site-packages\\ipykernel_launcher.py:5: SettingWithCopyWarning: \n",
      "A value is trying to be set on a copy of a slice from a DataFrame.\n",
      "Try using .loc[row_indexer,col_indexer] = value instead\n",
      "\n",
      "See the caveats in the documentation: http://pandas.pydata.org/pandas-docs/stable/indexing.html#indexing-view-versus-copy\n",
      "  \"\"\"\n",
      "C:\\Users\\fs4re\\Anaconda3\\lib\\site-packages\\ipykernel_launcher.py:6: SettingWithCopyWarning: \n",
      "A value is trying to be set on a copy of a slice from a DataFrame.\n",
      "Try using .loc[row_indexer,col_indexer] = value instead\n",
      "\n",
      "See the caveats in the documentation: http://pandas.pydata.org/pandas-docs/stable/indexing.html#indexing-view-versus-copy\n",
      "  \n"
     ]
    }
   ],
   "source": [
    "# Changing the data types to approperiate dtypes\n",
    "# Adding a new col with bool values\n",
    "clean_tweets_df['is_retweet'] = clean_tweets_df['is_retweet'].map({'true': True, 'false' : False})\n",
    "clean_tweets_df['tweet_dates'] = pd.to_datetime(tweets_corpes_df['created_at'], errors = 'coerce')\n",
    "clean_tweets_df['retweet_count'] = clean_tweets_df['retweet_count'].apply(lambda x: float(x))\n",
    "clean_tweets_df['favorite_count'] = clean_tweets_df['favorite_count'].apply(lambda x: float(x))"
   ]
  },
  {
   "cell_type": "code",
   "execution_count": 45,
   "metadata": {},
   "outputs": [
    {
     "name": "stderr",
     "output_type": "stream",
     "text": [
      "C:\\Users\\fs4re\\Anaconda3\\lib\\site-packages\\ipykernel_launcher.py:1: SettingWithCopyWarning: \n",
      "A value is trying to be set on a copy of a slice from a DataFrame.\n",
      "Try using .loc[row_indexer,col_indexer] = value instead\n",
      "\n",
      "See the caveats in the documentation: http://pandas.pydata.org/pandas-docs/stable/indexing.html#indexing-view-versus-copy\n",
      "  \"\"\"Entry point for launching an IPython kernel.\n"
     ]
    }
   ],
   "source": [
    "clean_tweets_df['text'] = clean_tweets_df['text'].str.replace(r'https{0,1}://[^\\s]*', 'LINK') "
   ]
  },
  {
   "cell_type": "code",
   "execution_count": 46,
   "metadata": {},
   "outputs": [],
   "source": [
    "clean_tweets_df.drop(['id_str', 'created_at'], inplace = True, axis = 1)"
   ]
  },
  {
   "cell_type": "code",
   "execution_count": 47,
   "metadata": {},
   "outputs": [
    {
     "name": "stdout",
     "output_type": "stream",
     "text": [
      "<class 'pandas.core.frame.DataFrame'>\n",
      "Int64Index: 42764 entries, 0 to 42773\n",
      "Data columns (total 6 columns):\n",
      "source            42764 non-null object\n",
      "text              42764 non-null object\n",
      "retweet_count     42764 non-null float64\n",
      "favorite_count    42764 non-null float64\n",
      "is_retweet        42706 non-null object\n",
      "tweet_dates       42764 non-null datetime64[ns]\n",
      "dtypes: datetime64[ns](1), float64(2), object(3)\n",
      "memory usage: 2.3+ MB\n"
     ]
    }
   ],
   "source": [
    "#All dtypes have been modified accordingly\n",
    "clean_tweets_df.info()"
   ]
  },
  {
   "cell_type": "code",
   "execution_count": 48,
   "metadata": {},
   "outputs": [],
   "source": [
    "# Creating subsets of the df into tweets written by Trump - originals\n",
    "#                            and retweeted tweets -- RT\n",
    "notretweet_mask = clean_tweets_df['is_retweet'] == False\n",
    "original_tweets_df = clean_tweets_df[notretweet_mask]"
   ]
  },
  {
   "cell_type": "code",
   "execution_count": 49,
   "metadata": {},
   "outputs": [
    {
     "data": {
      "text/html": [
       "<div>\n",
       "<style scoped>\n",
       "    .dataframe tbody tr th:only-of-type {\n",
       "        vertical-align: middle;\n",
       "    }\n",
       "\n",
       "    .dataframe tbody tr th {\n",
       "        vertical-align: top;\n",
       "    }\n",
       "\n",
       "    .dataframe thead th {\n",
       "        text-align: right;\n",
       "    }\n",
       "</style>\n",
       "<table border=\"1\" class=\"dataframe\">\n",
       "  <thead>\n",
       "    <tr style=\"text-align: right;\">\n",
       "      <th></th>\n",
       "      <th>source</th>\n",
       "      <th>text</th>\n",
       "      <th>retweet_count</th>\n",
       "      <th>favorite_count</th>\n",
       "      <th>is_retweet</th>\n",
       "      <th>tweet_dates</th>\n",
       "    </tr>\n",
       "  </thead>\n",
       "  <tbody>\n",
       "    <tr>\n",
       "      <th>0</th>\n",
       "      <td>Twitter for iPhone</td>\n",
       "      <td>“Congressman Van Drew (D-NJ) SLAMS Democrats f...</td>\n",
       "      <td>2765.0</td>\n",
       "      <td>9167.0</td>\n",
       "      <td>False</td>\n",
       "      <td>2019-11-18 16:06:19</td>\n",
       "    </tr>\n",
       "    <tr>\n",
       "      <th>1</th>\n",
       "      <td>Twitter for iPhone</td>\n",
       "      <td>Just finished a very good &amp;amp; cordial meetin...</td>\n",
       "      <td>3193.0</td>\n",
       "      <td>12462.0</td>\n",
       "      <td>False</td>\n",
       "      <td>2019-11-18 16:01:42</td>\n",
       "    </tr>\n",
       "    <tr>\n",
       "      <th>2</th>\n",
       "      <td>Twitter for iPhone</td>\n",
       "      <td>Just finished a very good &amp;amp; cordial meetin...</td>\n",
       "      <td>2523.0</td>\n",
       "      <td>8981.0</td>\n",
       "      <td>False</td>\n",
       "      <td>2019-11-18 15:49:55</td>\n",
       "    </tr>\n",
       "  </tbody>\n",
       "</table>\n",
       "</div>"
      ],
      "text/plain": [
       "               source                                               text  \\\n",
       "0  Twitter for iPhone  “Congressman Van Drew (D-NJ) SLAMS Democrats f...   \n",
       "1  Twitter for iPhone  Just finished a very good &amp; cordial meetin...   \n",
       "2  Twitter for iPhone  Just finished a very good &amp; cordial meetin...   \n",
       "\n",
       "   retweet_count  favorite_count is_retweet         tweet_dates  \n",
       "0         2765.0          9167.0      False 2019-11-18 16:06:19  \n",
       "1         3193.0         12462.0      False 2019-11-18 16:01:42  \n",
       "2         2523.0          8981.0      False 2019-11-18 15:49:55  "
      ]
     },
     "execution_count": 49,
     "metadata": {},
     "output_type": "execute_result"
    }
   ],
   "source": [
    "original_tweets_df.head(3)"
   ]
  },
  {
   "cell_type": "code",
   "execution_count": 50,
   "metadata": {},
   "outputs": [],
   "source": [
    "isretweet_mask = clean_tweets_df['is_retweet'] == True\n",
    "RT_tweets_df = clean_tweets_df[isretweet_mask]"
   ]
  },
  {
   "cell_type": "code",
   "execution_count": 51,
   "metadata": {},
   "outputs": [
    {
     "data": {
      "text/html": [
       "<div>\n",
       "<style scoped>\n",
       "    .dataframe tbody tr th:only-of-type {\n",
       "        vertical-align: middle;\n",
       "    }\n",
       "\n",
       "    .dataframe tbody tr th {\n",
       "        vertical-align: top;\n",
       "    }\n",
       "\n",
       "    .dataframe thead th {\n",
       "        text-align: right;\n",
       "    }\n",
       "</style>\n",
       "<table border=\"1\" class=\"dataframe\">\n",
       "  <thead>\n",
       "    <tr style=\"text-align: right;\">\n",
       "      <th></th>\n",
       "      <th>source</th>\n",
       "      <th>text</th>\n",
       "      <th>retweet_count</th>\n",
       "      <th>favorite_count</th>\n",
       "      <th>is_retweet</th>\n",
       "      <th>tweet_dates</th>\n",
       "    </tr>\n",
       "  </thead>\n",
       "  <tbody>\n",
       "    <tr>\n",
       "      <th>6</th>\n",
       "      <td>Twitter for iPhone</td>\n",
       "      <td>RT @SteveScalise: Schiff controls who testifie...</td>\n",
       "      <td>13505.0</td>\n",
       "      <td>0.0</td>\n",
       "      <td>True</td>\n",
       "      <td>2019-11-18 12:14:37</td>\n",
       "    </tr>\n",
       "    <tr>\n",
       "      <th>23</th>\n",
       "      <td>Twitter for iPhone</td>\n",
       "      <td>RT @EricTrump: I hope no one who serves our co...</td>\n",
       "      <td>22265.0</td>\n",
       "      <td>0.0</td>\n",
       "      <td>True</td>\n",
       "      <td>2019-11-17 18:34:10</td>\n",
       "    </tr>\n",
       "    <tr>\n",
       "      <th>24</th>\n",
       "      <td>Twitter for iPhone</td>\n",
       "      <td>RT @EricTrump: Trump Washington D.C! @TrumpDC ...</td>\n",
       "      <td>5833.0</td>\n",
       "      <td>0.0</td>\n",
       "      <td>True</td>\n",
       "      <td>2019-11-17 18:33:34</td>\n",
       "    </tr>\n",
       "  </tbody>\n",
       "</table>\n",
       "</div>"
      ],
      "text/plain": [
       "                source                                               text  \\\n",
       "6   Twitter for iPhone  RT @SteveScalise: Schiff controls who testifie...   \n",
       "23  Twitter for iPhone  RT @EricTrump: I hope no one who serves our co...   \n",
       "24  Twitter for iPhone  RT @EricTrump: Trump Washington D.C! @TrumpDC ...   \n",
       "\n",
       "    retweet_count  favorite_count is_retweet         tweet_dates  \n",
       "6         13505.0             0.0       True 2019-11-18 12:14:37  \n",
       "23        22265.0             0.0       True 2019-11-17 18:34:10  \n",
       "24         5833.0             0.0       True 2019-11-17 18:33:34  "
      ]
     },
     "execution_count": 51,
     "metadata": {},
     "output_type": "execute_result"
    }
   ],
   "source": [
    "RT_tweets_df.head(3)"
   ]
  },
  {
   "cell_type": "code",
   "execution_count": 52,
   "metadata": {},
   "outputs": [
    {
     "name": "stdout",
     "output_type": "stream",
     "text": [
      "Retweets in his account (3159, 6)\n",
      "Originals tweets (39547, 6)\n"
     ]
    }
   ],
   "source": [
    "# comparing the sizes\n",
    "print('Retweets in his account {}'.format(RT_tweets_df.shape))\n",
    "print('Originals tweets {}'.format(original_tweets_df.shape))"
   ]
  },
  {
   "cell_type": "code",
   "execution_count": 53,
   "metadata": {
    "scrolled": false
   },
   "outputs": [
    {
     "name": "stderr",
     "output_type": "stream",
     "text": [
      "C:\\Users\\fs4re\\Anaconda3\\lib\\site-packages\\ipykernel_launcher.py:1: SettingWithCopyWarning: \n",
      "A value is trying to be set on a copy of a slice from a DataFrame.\n",
      "Try using .loc[row_indexer,col_indexer] = value instead\n",
      "\n",
      "See the caveats in the documentation: http://pandas.pydata.org/pandas-docs/stable/indexing.html#indexing-view-versus-copy\n",
      "  \"\"\"Entry point for launching an IPython kernel.\n"
     ]
    }
   ],
   "source": [
    "clean_tweets_df['text'] = clean_tweets_df['text'].str.strip()"
   ]
  },
  {
   "cell_type": "code",
   "execution_count": 54,
   "metadata": {},
   "outputs": [],
   "source": [
    "#Saving the new and cleaned up data to a file\n",
    "clean_tweets_df.to_csv('./clean_tweets_corpes.csv', index = False)\n",
    "original_tweets_df.to_csv('./original_tweets_corpes.csv', index = False)\n",
    "RT_tweets_df.to_csv('./RT_corpes.csv', index = False)"
   ]
  },
  {
   "cell_type": "code",
   "execution_count": 55,
   "metadata": {},
   "outputs": [
    {
     "data": {
      "text/plain": [
       "source                    object\n",
       "text                      object\n",
       "retweet_count            float64\n",
       "favorite_count           float64\n",
       "is_retweet                object\n",
       "tweet_dates       datetime64[ns]\n",
       "dtype: object"
      ]
     },
     "execution_count": 55,
     "metadata": {},
     "output_type": "execute_result"
    }
   ],
   "source": [
    "original_tweets_df.dtypes"
   ]
  },
  {
   "cell_type": "code",
   "execution_count": 56,
   "metadata": {},
   "outputs": [
    {
     "data": {
      "text/plain": [
       "<matplotlib.axes._subplots.AxesSubplot at 0x1f3355b9208>"
      ]
     },
     "execution_count": 56,
     "metadata": {},
     "output_type": "execute_result"
    },
    {
     "data": {
      "image/png": "[encoded data removed]",
      "text/plain": [
       "<Figure size 432x288 with 1 Axes>"
      ]
     },
     "metadata": {
      "needs_background": "light"
     },
     "output_type": "display_data"
    }
   ],
   "source": [
    "np.log(clean_tweets_df['source'].value_counts()).plot(kind = 'bar')"
   ]
  },
  {
   "cell_type": "code",
   "execution_count": 57,
   "metadata": {},
   "outputs": [
    {
     "data": {
      "text/plain": [
       "Text(0, 0.5, 'log scale')"
      ]
     },
     "execution_count": 57,
     "metadata": {},
     "output_type": "execute_result"
    },
    {
     "data": {
      "image/png": "[encoded data removed]",
      "text/plain": [
       "<Figure size 720x360 with 1 Axes>"
      ]
     },
     "metadata": {
      "needs_background": "light"
     },
     "output_type": "display_data"
    }
   ],
   "source": [
    "vc = clean_tweets_df[\"source\"].value_counts()\n",
    "plt.figure(figsize = (10,5))\n",
    "source_graph = sns.barplot(x=vc.index,y=np.log(vc.values))\n",
    "source_graph.set_xticklabels(source_graph.get_xticklabels(),rotation=90);\n",
    "plt.ylabel('log scale')"
   ]
  },
  {
   "cell_type": "code",
   "execution_count": 58,
   "metadata": {},
   "outputs": [
    {
     "data": {
      "text/html": [
       "<div>\n",
       "<style scoped>\n",
       "    .dataframe tbody tr th:only-of-type {\n",
       "        vertical-align: middle;\n",
       "    }\n",
       "\n",
       "    .dataframe tbody tr th {\n",
       "        vertical-align: top;\n",
       "    }\n",
       "\n",
       "    .dataframe thead th {\n",
       "        text-align: right;\n",
       "    }\n",
       "</style>\n",
       "<table border=\"1\" class=\"dataframe\">\n",
       "  <thead>\n",
       "    <tr style=\"text-align: right;\">\n",
       "      <th></th>\n",
       "      <th>source</th>\n",
       "      <th>text</th>\n",
       "      <th>retweet_count</th>\n",
       "      <th>favorite_count</th>\n",
       "      <th>is_retweet</th>\n",
       "      <th>tweet_dates</th>\n",
       "    </tr>\n",
       "  </thead>\n",
       "  <tbody>\n",
       "    <tr>\n",
       "      <th>30821</th>\n",
       "      <td>Vine - Make a Scene</td>\n",
       "      <td>#TrumpVine on ObamaCare website- LINK</td>\n",
       "      <td>344.0</td>\n",
       "      <td>276.0</td>\n",
       "      <td>False</td>\n",
       "      <td>2013-11-05 14:52:14</td>\n",
       "    </tr>\n",
       "    <tr>\n",
       "      <th>31721</th>\n",
       "      <td>Vine - Make a Scene</td>\n",
       "      <td>Wow with all this talk @MissUniverse is going ...</td>\n",
       "      <td>67.0</td>\n",
       "      <td>31.0</td>\n",
       "      <td>False</td>\n",
       "      <td>2013-09-12 20:58:29</td>\n",
       "    </tr>\n",
       "    <tr>\n",
       "      <th>31832</th>\n",
       "      <td>Vine - Make a Scene</td>\n",
       "      <td>#TrumpVine from D.C.- LINK</td>\n",
       "      <td>321.0</td>\n",
       "      <td>307.0</td>\n",
       "      <td>False</td>\n",
       "      <td>2013-09-10 12:28:25</td>\n",
       "    </tr>\n",
       "    <tr>\n",
       "      <th>32156</th>\n",
       "      <td>Vine - Make a Scene</td>\n",
       "      <td>#TrumpVine A message for my hotel guest @Miley...</td>\n",
       "      <td>416.0</td>\n",
       "      <td>281.0</td>\n",
       "      <td>False</td>\n",
       "      <td>2013-08-29 19:05:43</td>\n",
       "    </tr>\n",
       "    <tr>\n",
       "      <th>32393</th>\n",
       "      <td>Vine - Make a Scene</td>\n",
       "      <td>#TrumpVine Opinion on Egypt- LINK</td>\n",
       "      <td>96.0</td>\n",
       "      <td>72.0</td>\n",
       "      <td>False</td>\n",
       "      <td>2013-08-19 18:17:28</td>\n",
       "    </tr>\n",
       "    <tr>\n",
       "      <th>32465</th>\n",
       "      <td>Vine - Make a Scene</td>\n",
       "      <td>#TrumpVine Where is the money @MacMiller? LINK</td>\n",
       "      <td>569.0</td>\n",
       "      <td>501.0</td>\n",
       "      <td>False</td>\n",
       "      <td>2013-08-15 14:38:22</td>\n",
       "    </tr>\n",
       "    <tr>\n",
       "      <th>32679</th>\n",
       "      <td>Vine - Make a Scene</td>\n",
       "      <td>#TrumpVine Weiner is a joke.... LINK</td>\n",
       "      <td>167.0</td>\n",
       "      <td>210.0</td>\n",
       "      <td>False</td>\n",
       "      <td>2013-08-07 14:38:26</td>\n",
       "    </tr>\n",
       "    <tr>\n",
       "      <th>32793</th>\n",
       "      <td>Vine - Make a Scene</td>\n",
       "      <td>#TrumpVine @arod sucks! LINK</td>\n",
       "      <td>373.0</td>\n",
       "      <td>230.0</td>\n",
       "      <td>False</td>\n",
       "      <td>2013-08-01 14:35:46</td>\n",
       "    </tr>\n",
       "    <tr>\n",
       "      <th>32915</th>\n",
       "      <td>Vine - Make a Scene</td>\n",
       "      <td>#TrumpVine A message for @AnthonyWeiner- LINK</td>\n",
       "      <td>214.0</td>\n",
       "      <td>141.0</td>\n",
       "      <td>False</td>\n",
       "      <td>2013-07-26 15:55:04</td>\n",
       "    </tr>\n",
       "    <tr>\n",
       "      <th>32975</th>\n",
       "      <td>Vine - Make a Scene</td>\n",
       "      <td>Watch the first #TrumpVine re: Anthony Weiner-...</td>\n",
       "      <td>105.0</td>\n",
       "      <td>96.0</td>\n",
       "      <td>False</td>\n",
       "      <td>2013-07-24 14:14:26</td>\n",
       "    </tr>\n",
       "  </tbody>\n",
       "</table>\n",
       "</div>"
      ],
      "text/plain": [
       "                    source                                               text  \\\n",
       "30821  Vine - Make a Scene              #TrumpVine on ObamaCare website- LINK   \n",
       "31721  Vine - Make a Scene  Wow with all this talk @MissUniverse is going ...   \n",
       "31832  Vine - Make a Scene                         #TrumpVine from D.C.- LINK   \n",
       "32156  Vine - Make a Scene  #TrumpVine A message for my hotel guest @Miley...   \n",
       "32393  Vine - Make a Scene                  #TrumpVine Opinion on Egypt- LINK   \n",
       "32465  Vine - Make a Scene     #TrumpVine Where is the money @MacMiller? LINK   \n",
       "32679  Vine - Make a Scene               #TrumpVine Weiner is a joke.... LINK   \n",
       "32793  Vine - Make a Scene                       #TrumpVine @arod sucks! LINK   \n",
       "32915  Vine - Make a Scene      #TrumpVine A message for @AnthonyWeiner- LINK   \n",
       "32975  Vine - Make a Scene  Watch the first #TrumpVine re: Anthony Weiner-...   \n",
       "\n",
       "       retweet_count  favorite_count is_retweet         tweet_dates  \n",
       "30821          344.0           276.0      False 2013-11-05 14:52:14  \n",
       "31721           67.0            31.0      False 2013-09-12 20:58:29  \n",
       "31832          321.0           307.0      False 2013-09-10 12:28:25  \n",
       "32156          416.0           281.0      False 2013-08-29 19:05:43  \n",
       "32393           96.0            72.0      False 2013-08-19 18:17:28  \n",
       "32465          569.0           501.0      False 2013-08-15 14:38:22  \n",
       "32679          167.0           210.0      False 2013-08-07 14:38:26  \n",
       "32793          373.0           230.0      False 2013-08-01 14:35:46  \n",
       "32915          214.0           141.0      False 2013-07-26 15:55:04  \n",
       "32975          105.0            96.0      False 2013-07-24 14:14:26  "
      ]
     },
     "execution_count": 58,
     "metadata": {},
     "output_type": "execute_result"
    }
   ],
   "source": [
    "mask = clean_tweets_df['source'] == 'Vine - Make a Scene'\n",
    "clean_tweets_df[mask]"
   ]
  },
  {
   "cell_type": "code",
   "execution_count": null,
   "metadata": {},
   "outputs": [],
   "source": []
  },
  {
   "cell_type": "code",
   "execution_count": null,
   "metadata": {},
   "outputs": [],
   "source": []
  }
 ],
 "metadata": {
  "kernelspec": {
   "display_name": "Python 3",
   "language": "python",
   "name": "python3"
  },
  "language_info": {
   "codemirror_mode": {
    "name": "ipython",
    "version": 3
   },
   "file_extension": ".py",
   "mimetype": "text/x-python",
   "name": "python",
   "nbconvert_exporter": "python",
   "pygments_lexer": "ipython3",
   "version": "3.7.1"
  }
 },
 "nbformat": 4,
 "nbformat_minor": 2
}
